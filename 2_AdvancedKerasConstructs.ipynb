{
  "nbformat": 4,
  "nbformat_minor": 0,
  "metadata": {
    "colab": {
      "provenance": []
    },
    "kernelspec": {
      "name": "python3",
      "display_name": "Python 3"
    },
    "language_info": {
      "name": "python"
    }
  },
  "cells": [
    {
      "cell_type": "markdown",
      "source": [
        "## 2: Advanced Keras Deep Learning Constructs\n",
        "\n",
        "**Description:**\n",
        "\n",
        "This Colab notebook demonstrates various advanced Keras deep learning constructs, providing practical examples for each concept. These techniques allow for greater control and customization of the model training process and architecture.\n",
        "\n",
        "**Table of Contents:**\n",
        "\n",
        "1.  **User Custom Learning Rate Scheduler:** Implementing a custom learning rate scheduler, including an example inspired by OneCycleScheduler.\n",
        "2.  **Custom Dropout:** Utilizing a custom dropout layer, specifically `MCAlphaDropout`.\n",
        "3.  **Custom Normalization:** Implementing and using a custom normalization layer, `MaxNormDense`.\n",
        "4.  **TensorBoard Integration:** Demonstrating how to use TensorBoard for visualizing training progress.\n",
        "5.  **Custom Loss Function:** Implementing and using a custom loss function, `HuberLoss`.\n",
        "6.  **Custom Activation, Initializer, Regularizer, and Constraint:** Implementing and using `LeakyReLU`, a custom initializer (`MyGlorotInitializer`), a custom regularizer (`MyL1Regularizer`), and a custom weight constraint (`MyPositiveWeights`).\n",
        "7.  **Custom Metric:** Implementing and using a custom metric, `HuberMetric`.\n",
        "8.  **Custom Layers:** Implementing and using several custom layers: `ExponentialLayer`, `MyDense`, `AddGaussianNoise`, and `LayerNormalization`.\n",
        "9.  **Custom Model:** Building and using a custom model, `ResidualRegressor`, with a `ResidualBlock`.\n",
        "10. **Custom Optimizer:** Implementing and using a custom optimizer, `MyMomentumOptimizer`.\n",
        "11. **Custom Training Loop:** Implementing a custom training loop for the Fashion MNIST dataset.\n",
        "\n",
        "Let's dive into each of these concepts."
      ],
      "metadata": {
        "id": "tops2FdkfucH"
      }
    },
    {
      "cell_type": "code",
      "execution_count": null,
      "metadata": {
        "id": "vI69bZuvfthm"
      },
      "outputs": [],
      "source": [
        "import tensorflow as tf\n",
        "from tensorflow import keras\n",
        "from tensorflow.keras import layers\n",
        "from tensorflow.keras import backend as K\n",
        "import numpy as np\n",
        "import matplotlib.pyplot as plt\n",
        "import datetime\n",
        "import os\n"
      ]
    },
    {
      "cell_type": "markdown",
      "source": [
        "### 1. User Custom Learning Rate Scheduler (OneCycleSchedule)\n",
        "\n",
        "This section demonstrates a custom learning rate scheduler inspired by the OneCycle policy. The OneCycle policy involves increasing the learning rate from a low value to a maximum value and then decreasing it again, often followed by a final, much smaller learning rate for the last few iterations. This approach can help in faster convergence and better generalization.\n",
        "\n",
        "**Implementation:**\n",
        "\n",
        "We define a class `OneCycleSchedule` that inherits from `tf.keras.optimizers.schedules.LearningRateSchedule`. This base class allows us to create custom learning rate schedules that can be directly used with Keras optimizers.\n",
        "\n",
        "* **`__init__`:** The constructor takes parameters to define the schedule, including the total number of iterations (`iterations`), the maximum learning rate (`max_lr`), the starting learning rate (`start_lr`), the number of iterations for the final decreasing phase (`last_iterations`), and the final learning rate (`last_lr`). It calculates the learning rate values for each phase using `np.linspace` and concatenates them into a NumPy array `lrs_np`. This array is then converted to a TensorFlow constant tensor `self.lrs` for graph mode compatibility.\n",
        "* **`__call__`:** This method is the core of the learning rate schedule. It takes the current training step (`step`) as input. It casts the step to an integer and ensures that the index used to retrieve the learning rate from `self.lrs` stays within the bounds of the array using `tf.minimum`. Finally, it uses `tf.gather` to retrieve the learning rate corresponding to the current step.\n",
        "\n",
        "**Usage:**\n",
        "\n",
        "1.  We load the Fashion MNIST dataset for demonstration.\n",
        "2.  We define training parameters like `batch_size`, `epochs`, and calculate the total `iterations`.\n",
        "3.  We create an instance of our custom `OneCycleSchedule`.\n",
        "4.  We instantiate the `Adam` optimizer, passing our custom learning rate schedule to the `learning_rate` parameter.\n",
        "5.  We build and compile a simple sequential model.\n",
        "6.  We train the model using the `fit` method, with the `Adam` optimizer now controlling the learning rate according to our `OneCycleSchedule`.\n",
        "7.  Finally, we plot the learning rate schedule over the iterations and the training/validation loss to observe the effect of the dynamic learning rate.\n",
        "\n",
        "**Expected Outcome:**\n",
        "\n",
        "The learning rate plot should show a triangular shape, increasing from `start_lr` to `max_lr` and then decreasing towards `last_lr`, followed by a further decrease in the final iterations. The training and validation loss plots should reflect the impact of this learning rate schedule on the convergence of the model."
      ],
      "metadata": {
        "id": "ffB-o_15k35U"
      }
    },
    {
      "cell_type": "code",
      "source": [
        "# Define OneCycle learning rate schedule using tf.gather\n",
        "class OneCycleSchedule(tf.keras.optimizers.schedules.LearningRateSchedule):\n",
        "    def __init__(self, iterations, max_lr=1e-3, start_lr=None, last_iterations=None, last_lr=None):\n",
        "        super().__init__()\n",
        "        self.total_iterations = iterations\n",
        "        self.max_lr = max_lr\n",
        "        self.start_lr = start_lr or max_lr / 10\n",
        "        self.last_iterations = last_iterations or iterations // 10 + 1\n",
        "        self.half_iteration = (iterations - self.last_iterations) // 2\n",
        "        self.last_lr = last_lr or self.start_lr / 10\n",
        "\n",
        "        lrs_np = np.concatenate([\n",
        "            np.linspace(self.start_lr, self.max_lr, self.half_iteration),\n",
        "            np.linspace(self.max_lr, self.last_lr, iterations - self.half_iteration - self.last_iterations),\n",
        "            np.linspace(self.last_lr, self.last_lr / 10, self.last_iterations)\n",
        "        ]).astype(np.float32)\n",
        "\n",
        "        # Convert to Tensor for graph mode compatibility\n",
        "        self.lrs = tf.constant(lrs_np)\n",
        "\n",
        "    def __call__(self, step):\n",
        "        step = tf.cast(step, tf.int32)\n",
        "        idx = tf.minimum(step, len(self.lrs) - 1)\n",
        "        return tf.gather(self.lrs, idx)\n",
        "\n",
        "# Load Fashion MNIST\n",
        "(X_train, y_train), (X_test, y_test) = keras.datasets.fashion_mnist.load_data()\n",
        "X_train = X_train.astype(np.float32) / 255.\n",
        "X_test = X_test.astype(np.float32) / 255.\n",
        "X_train = X_train.reshape(-1, 28 * 28)\n",
        "X_test = X_test.reshape(-1, 28 * 28)\n",
        "\n",
        "# Parameters\n",
        "batch_size = 32\n",
        "epochs = 10\n",
        "iterations = (len(X_train) // batch_size) * epochs\n",
        "\n",
        "# Create learning rate schedule\n",
        "schedule = OneCycleSchedule(iterations=iterations, max_lr=5e-3)\n",
        "\n",
        "# Optimizer using schedule\n",
        "optimizer = keras.optimizers.Adam(learning_rate=schedule)\n",
        "\n",
        "# Build and compile model\n",
        "model = keras.models.Sequential([\n",
        "    keras.layers.Dense(100, activation=\"relu\", input_shape=[28 * 28]),\n",
        "    keras.layers.Dense(10, activation=\"softmax\")\n",
        "])\n",
        "model.compile(loss=\"sparse_categorical_crossentropy\", optimizer=optimizer, metrics=[\"accuracy\"])\n",
        "\n",
        "# Train the model\n",
        "history = model.fit(X_train, y_train, epochs=epochs, batch_size=batch_size,\n",
        "                    validation_data=(X_test, y_test), verbose=1)\n",
        "\n",
        "# Plot learning rate schedule\n",
        "plt.plot(schedule.lrs.numpy())\n",
        "plt.xlabel(\"Iteration\")\n",
        "plt.ylabel(\"Learning Rate\")\n",
        "plt.title(\"OneCycle Learning Rate Schedule\")\n",
        "plt.grid(True)\n",
        "plt.show()\n",
        "\n",
        "# Plot training and validation loss\n",
        "plt.plot(history.history['loss'], label='train_loss')\n",
        "plt.plot(history.history['val_loss'], label='val_loss')\n",
        "plt.xlabel(\"Epoch\")\n",
        "plt.ylabel(\"Loss\")\n",
        "plt.title(\"Training and Validation Loss\")\n",
        "plt.legend()\n",
        "plt.grid(True)\n",
        "plt.show()\n"
      ],
      "metadata": {
        "colab": {
          "base_uri": "https://localhost:8080/",
          "height": 1000
        },
        "id": "XxaOyfFcgA0j",
        "outputId": "f0a9c694-b7af-4b1f-aac3-0d3aeb1cfe86"
      },
      "execution_count": null,
      "outputs": [
        {
          "output_type": "stream",
          "name": "stdout",
          "text": [
            "Epoch 1/10\n",
            "\u001b[1m1875/1875\u001b[0m \u001b[32m━━━━━━━━━━━━━━━━━━━━\u001b[0m\u001b[37m\u001b[0m \u001b[1m10s\u001b[0m 4ms/step - accuracy: 0.7600 - loss: 0.7165 - val_accuracy: 0.8388 - val_loss: 0.4479\n",
            "Epoch 2/10\n",
            "\u001b[1m1875/1875\u001b[0m \u001b[32m━━━━━━━━━━━━━━━━━━━━\u001b[0m\u001b[37m\u001b[0m \u001b[1m8s\u001b[0m 4ms/step - accuracy: 0.8492 - loss: 0.4244 - val_accuracy: 0.8454 - val_loss: 0.4194\n",
            "Epoch 3/10\n",
            "\u001b[1m1875/1875\u001b[0m \u001b[32m━━━━━━━━━━━━━━━━━━━━\u001b[0m\u001b[37m\u001b[0m \u001b[1m10s\u001b[0m 4ms/step - accuracy: 0.8578 - loss: 0.3854 - val_accuracy: 0.8493 - val_loss: 0.4104\n",
            "Epoch 4/10\n",
            "\u001b[1m1875/1875\u001b[0m \u001b[32m━━━━━━━━━━━━━━━━━━━━\u001b[0m\u001b[37m\u001b[0m \u001b[1m10s\u001b[0m 4ms/step - accuracy: 0.8650 - loss: 0.3715 - val_accuracy: 0.8520 - val_loss: 0.4167\n",
            "Epoch 5/10\n",
            "\u001b[1m1875/1875\u001b[0m \u001b[32m━━━━━━━━━━━━━━━━━━━━\u001b[0m\u001b[37m\u001b[0m \u001b[1m10s\u001b[0m 4ms/step - accuracy: 0.8659 - loss: 0.3633 - val_accuracy: 0.8519 - val_loss: 0.4306\n",
            "Epoch 6/10\n",
            "\u001b[1m1875/1875\u001b[0m \u001b[32m━━━━━━━━━━━━━━━━━━━━\u001b[0m\u001b[37m\u001b[0m \u001b[1m8s\u001b[0m 4ms/step - accuracy: 0.8760 - loss: 0.3382 - val_accuracy: 0.8585 - val_loss: 0.4103\n",
            "Epoch 7/10\n",
            "\u001b[1m1875/1875\u001b[0m \u001b[32m━━━━━━━━━━━━━━━━━━━━\u001b[0m\u001b[37m\u001b[0m \u001b[1m7s\u001b[0m 3ms/step - accuracy: 0.8868 - loss: 0.3045 - val_accuracy: 0.8666 - val_loss: 0.3897\n",
            "Epoch 8/10\n",
            "\u001b[1m1875/1875\u001b[0m \u001b[32m━━━━━━━━━━━━━━━━━━━━\u001b[0m\u001b[37m\u001b[0m \u001b[1m7s\u001b[0m 4ms/step - accuracy: 0.8978 - loss: 0.2740 - val_accuracy: 0.8738 - val_loss: 0.3648\n",
            "Epoch 9/10\n",
            "\u001b[1m1875/1875\u001b[0m \u001b[32m━━━━━━━━━━━━━━━━━━━━\u001b[0m\u001b[37m\u001b[0m \u001b[1m11s\u001b[0m 4ms/step - accuracy: 0.9070 - loss: 0.2478 - val_accuracy: 0.8799 - val_loss: 0.3366\n",
            "Epoch 10/10\n",
            "\u001b[1m1875/1875\u001b[0m \u001b[32m━━━━━━━━━━━━━━━━━━━━\u001b[0m\u001b[37m\u001b[0m \u001b[1m11s\u001b[0m 4ms/step - accuracy: 0.9124 - loss: 0.2294 - val_accuracy: 0.8804 - val_loss: 0.3348\n"
          ]
        },
        {
          "output_type": "display_data",
          "data": {
            "text/plain": [
              "<Figure size 640x480 with 1 Axes>"
            ],
            "image/png": "[encoded data removed]"
          },
          "metadata": {}
        },
        {
          "output_type": "display_data",
          "data": {
            "text/plain": [
              "<Figure size 640x480 with 1 Axes>"
            ],
            "image/png": "[encoded data removed]"
          },
          "metadata": {}
        }
      ]
    },
    {
      "cell_type": "markdown",
      "source": [
        "**Results for Custom Learning Rate Scheduler (OneCycleSchedule):**\n",
        "\n",
        "The training process using the custom `OneCycleSchedule` shows a clear trend in the learning rate (as visualized in the plot generated earlier, which depicted a rise and fall). The training and validation loss curves also reflect the impact of this dynamic learning rate.\n",
        "\n",
        "* **Training Loss:** The training loss generally decreases over the epochs, indicating that the model is learning from the training data. The rate of decrease appears to be influenced by the changes in the learning rate as dictated by the OneCycle schedule.\n",
        "* **Validation Loss:** The validation loss initially decreases, suggesting that the model is generalizing well to unseen data. However, it might show some fluctuations or a slight increase in later epochs, which is common with aggressive learning rate policies. The final validation loss reached approximately 0.3348.\n",
        "* **Validation Accuracy:** The validation accuracy steadily improves over the epochs, reaching a final value of approximately 0.8804. This indicates that the model is performing well on the unseen test data.\n",
        "\n",
        "**Analysis:**\n",
        "\n",
        "The OneCycle learning rate schedule appears to have facilitated relatively fast training and achieved a good level of validation accuracy. The initial increase in learning rate likely helped the model escape poor local minima and explore the weight space more effectively. The subsequent decrease allowed for finer adjustments to the weights, leading to better convergence. The final small learning rate in the last few iterations likely helped to stabilize the training and potentially improve generalization.\n",
        "\n",
        "The plots of the learning rate and the loss curves provide valuable insights into how the learning rate schedule influences the training dynamics. The validation loss curve can help in identifying potential overfitting, although in this case, it seems to be relatively stable towards the end of training."
      ],
      "metadata": {
        "id": "ZcyqRuBvlUIC"
      }
    },
    {
      "cell_type": "markdown",
      "source": [
        "### 2. Custom Dropout (MCAlphaDropout)\n",
        "\n",
        "This section demonstrates the use of a custom dropout layer called `MCAlphaDropout`. `AlphaDropout` is a type of dropout that maintains the self-normalizing property of scaled exponential linear units (SELUs). The standard `AlphaDropout` layer in Keras behaves differently during training and inference. During training, it randomly sets a fraction of inputs to zero, while during inference, it scales the outputs.\n",
        "\n",
        "`MCAlphaDropout` is a custom implementation that forces the dropout layer to be active even during inference (`training=True` in the `call` method). This technique, known as Monte Carlo Dropout, allows us to obtain multiple predictions for the same input by keeping dropout active. The variance in these predictions can be used as a measure of model uncertainty.\n",
        "\n",
        "**Implementation:**\n",
        "\n",
        "We define the `MCAlphaDropout` class by inheriting from `keras.layers.AlphaDropout`. We override the `call` method and explicitly set the `training` argument to `True`. This ensures that the dropout is applied at each forward pass, regardless of whether the model is in training or inference mode.\n",
        "\n",
        "**Usage:**\n",
        "\n",
        "1.  We build a sequential model with a dense layer followed by our custom `MCAlphaDropout` layer and a final softmax output layer.\n",
        "2.  We compile the model with the appropriate loss function, optimizer, and metrics.\n",
        "3.  We train the model for a few epochs.\n",
        "4.  We then evaluate the model on the test set to get a single test accuracy with dropout active during evaluation.\n",
        "\n",
        "**Expected Outcome:**\n",
        "\n",
        "The output will print the test accuracy achieved by the model when evaluated with `MCAlphaDropout` active. This accuracy might be slightly lower than if standard dropout behavior (scaling during inference) were used. However, the main benefit of MC Dropout lies in its ability to estimate model uncertainty, which is not directly demonstrated in this basic example but is a key application of keeping dropout active during inference."
      ],
      "metadata": {
        "id": "pO6MmCgultL8"
      }
    },
    {
      "cell_type": "code",
      "source": [
        "### 2. Custom Dropout (MCAlphaDropout)\n",
        "\n",
        "class MCAlphaDropout(keras.layers.AlphaDropout):\n",
        "    def call(self, inputs, training=None):\n",
        "        return super().call(inputs, training=True)\n",
        "\n",
        "model_custom_dropout = keras.models.Sequential([\n",
        "    keras.layers.Dense(100, activation=\"relu\", input_shape=[28 * 28]),\n",
        "    MCAlphaDropout(rate=0.2),\n",
        "    keras.layers.Dense(10, activation=\"softmax\")\n",
        "])\n",
        "model_custom_dropout.compile(loss=\"sparse_categorical_crossentropy\", optimizer=\"adam\", metrics=[\"accuracy\"])\n",
        "history_custom_dropout = model_custom_dropout.fit(X_train, y_train, epochs=5, batch_size=32,\n",
        "                                                  validation_data=(X_test, y_test), verbose=0)\n",
        "\n",
        "_, acc_custom_dropout = model_custom_dropout.evaluate(X_test, y_test, verbose=0)\n",
        "print(f\"Test Accuracy with MCAlphaDropout: {acc_custom_dropout:.4f}\")"
      ],
      "metadata": {
        "colab": {
          "base_uri": "https://localhost:8080/"
        },
        "id": "DbkhvXtLhCS0",
        "outputId": "afb23030-c221-466b-c60c-94c5c62414cf"
      },
      "execution_count": null,
      "outputs": [
        {
          "output_type": "stream",
          "name": "stdout",
          "text": [
            "Test Accuracy with MCAlphaDropout: 0.8426\n"
          ]
        }
      ]
    },
    {
      "cell_type": "markdown",
      "source": [
        "**Results for Custom Dropout (MCAlphaDropout):**\n",
        "\n",
        "The test accuracy achieved by the model using `MCAlphaDropout` during evaluation is approximately 0.8426.\n",
        "\n",
        "**Analysis:**\n",
        "\n",
        "This test accuracy represents the model's performance on the unseen test data with the dropout layer actively dropping units during the forward pass. As mentioned earlier, keeping dropout active during inference (as done in `MCAlphaDropout`) can sometimes lead to a slightly lower point estimate of accuracy compared to the standard behavior where the layer is effectively turned off or scaled.\n",
        "\n",
        "The primary benefit of using MC Dropout is not necessarily to maximize the point estimate of accuracy but rather to enable the estimation of model uncertainty. By performing multiple forward passes with dropout active, we can obtain a distribution of predictions for each test sample. The variance of this distribution can serve as an indicator of the model's confidence in its prediction. Higher variance suggests higher uncertainty.\n",
        "\n",
        "While this example only shows the single evaluation with dropout active, in a real-world application, you would typically perform multiple predictions for each test sample and analyze the resulting distribution to gain insights into the model's uncertainty. This is particularly useful in critical applications where knowing the model's confidence is as important as the prediction itself."
      ],
      "metadata": {
        "id": "jzSMkxUhmHXS"
      }
    },
    {
      "cell_type": "markdown",
      "source": [
        "### 3. Custom Normalization (MaxNormDense)\n",
        "\n",
        "This section demonstrates a custom dense layer called `MaxNormDense`. Max-norm regularization is a technique that constrains the weight vectors of incoming connections to each hidden unit to have a Euclidean norm less than or equal to a specified value. This can help prevent the weights from becoming too large, which can lead to instability and overfitting in deep neural networks.\n",
        "\n",
        "**Implementation:**\n",
        "\n",
        "We define the `MaxNormDense` class by inheriting from `keras.layers.Dense`.\n",
        "\n",
        "* **`__init__`:** The constructor takes the number of `units` and an optional `max_norm` value. It converts `max_norm` to the Keras float type if provided.\n",
        "* **`build`:** In the `build` method, after calling the parent class's `build` method, we check if `max_norm` is set. If it is, we create a `keras.constraints.MaxNorm` constraint with the specified `max_value` and apply it to the `kernel` (weight matrix) of the layer. We set `bias_constraint` to `None` as the bias term typically doesn't require norm constraints.\n",
        "* **`call`:** In the `call` method, before performing the dense operation, we apply the `kernel_constraint` to the `kernel`. This ensures that the weights are constrained before being used in the matrix multiplication.\n",
        "\n",
        "**Usage:**\n",
        "\n",
        "1.  We build a sequential model with our custom `MaxNormDense` layer (with `max_norm` set to 1.0) followed by a standard dense output layer.\n",
        "2.  We compile the model with the usual loss function, optimizer, and metrics.\n",
        "3.  We train the model for a few epochs.\n",
        "4.  We then evaluate the model on the test set to see the performance with max-norm regularization applied to the first dense layer's weights.\n",
        "\n",
        "**Expected Outcome:**\n",
        "\n",
        "The output will print the test accuracy achieved by the model using the `MaxNormDense` layer. By constraining the weights, we aim to improve the model's generalization ability, potentially leading to a better or more stable performance on the unseen test data compared to a model without such constraints, especially in deeper networks or with longer training."
      ],
      "metadata": {
        "id": "mHJDr5DJmVhg"
      }
    },
    {
      "cell_type": "code",
      "source": [
        "### 3. Custom Normalization (MaxNormDense)\n",
        "\n",
        "class MaxNormDense(keras.layers.Dense):\n",
        "    def __init__(self, units, max_norm=None, **kwargs):\n",
        "        self.max_norm = K.cast_to_floatx(max_norm) if max_norm else None\n",
        "        super().__init__(units, **kwargs)\n",
        "\n",
        "    def build(self, input_shape):\n",
        "        super().build(input_shape)\n",
        "        if self.max_norm is not None:\n",
        "            self.kernel_constraint = keras.constraints.MaxNorm(max_value=self.max_norm, axis=0)\n",
        "            self.bias_constraint = None  # Bias doesn't need norm constraint\n",
        "\n",
        "    def call(self, inputs):\n",
        "        if self.max_norm is not None:\n",
        "            self.kernel.assign(self.kernel_constraint(self.kernel))\n",
        "        return super().call(inputs)\n",
        "\n",
        "model_custom_norm = keras.models.Sequential([\n",
        "    MaxNormDense(100, activation=\"relu\", max_norm=1.0, input_shape=[28 * 28]),\n",
        "    keras.layers.Dense(10, activation=\"softmax\")\n",
        "])\n",
        "model_custom_norm.compile(loss=\"sparse_categorical_crossentropy\", optimizer=\"adam\", metrics=[\"accuracy\"])\n",
        "history_custom_norm = model_custom_norm.fit(X_train, y_train, epochs=5, batch_size=32,\n",
        "                                            validation_data=(X_test, y_test), verbose=0)\n",
        "\n",
        "_, acc_custom_norm = model_custom_norm.evaluate(X_test, y_test, verbose=0)\n",
        "print(f\"Test Accuracy with MaxNormDense: {acc_custom_norm:.4f}\")"
      ],
      "metadata": {
        "colab": {
          "base_uri": "https://localhost:8080/"
        },
        "id": "Pc6hn3G3lztZ",
        "outputId": "9c490c60-17d8-4a50-cbea-c1b8ff1b1aba"
      },
      "execution_count": null,
      "outputs": [
        {
          "output_type": "stream",
          "name": "stdout",
          "text": [
            "Test Accuracy with MaxNormDense: 0.8586\n"
          ]
        }
      ]
    },
    {
      "cell_type": "markdown",
      "source": [
        "**Results for Custom Normalization (MaxNormDense):**\n",
        "\n",
        "The test accuracy achieved by the model using the `MaxNormDense` layer is approximately 0.8586.\n",
        "\n",
        "**Analysis:**\n",
        "\n",
        "This test accuracy indicates the performance of the model on the unseen test data with max-norm regularization applied to the weights of the first dense layer. By constraining the Euclidean norm of the weight vectors, max-norm regularization helps to prevent the weights from growing too large. This can lead to a more stable and potentially better-generalizing model.\n",
        "\n",
        "Comparing this accuracy (0.8586) with the accuracy obtained without any custom normalization in the initial runs (you might need to refer back to those if you noted them), we can get an idea of the impact of max-norm regularization in this specific scenario. Often, the benefits of weight constraints become more apparent in deeper networks or when training for a larger number of epochs where the risk of overfitting due to large weights is higher.\n",
        "\n",
        "In this relatively shallow network trained for a few epochs, the improvement might be modest but still noticeable. Max-norm can contribute to better control over the model's capacity and can be a useful tool in the regularization arsenal, especially when dealing with complex datasets or architectures."
      ],
      "metadata": {
        "id": "-e2exCVcm9jJ"
      }
    },
    {
      "cell_type": "markdown",
      "source": [
        "### 4. TensorBoard Integration\n",
        "\n",
        "TensorBoard is a powerful visualization tool provided with TensorFlow. It allows you to track and visualize various aspects of your machine learning experiments, such as loss and accuracy metrics over time, model graphs, histograms of weights and biases, and much more. Integrating TensorBoard into your Keras workflow can significantly aid in understanding and debugging your models.\n",
        "\n",
        "**Implementation:**\n",
        "\n",
        "To use TensorBoard with Keras, you primarily need to use the `tf.keras.callbacks.TensorBoard` callback during the model training process. This callback writes logs to a specified directory, which TensorBoard can then read and visualize.\n",
        "\n",
        "The `TensorBoard` callback offers several parameters to control what information is logged. In this example, we will focus on logging the scalar metrics (loss and accuracy) and histograms of the layer weights.\n",
        "\n",
        "**Code:**"
      ],
      "metadata": {
        "id": "tU8PyS-InEuE"
      }
    },
    {
      "cell_type": "code",
      "source": [
        "### 4. TensorBoard Integration\n",
        "\n",
        "# Define a TensorBoard callback\n",
        "log_dir = os.path.join(\"logs\", datetime.datetime.now().strftime(\"%Y%m%d-%H%M%S\"))\n",
        "tensorboard_callback = tf.keras.callbacks.TensorBoard(log_dir=log_dir, histogram_freq=1)\n",
        "\n",
        "model_tensorboard = keras.models.Sequential([\n",
        "    keras.layers.Dense(100, activation=\"relu\", input_shape=[28 * 28]),\n",
        "    keras.layers.Dense(10, activation=\"softmax\")\n",
        "])\n",
        "model_tensorboard.compile(loss=\"sparse_categorical_crossentropy\", optimizer=\"adam\", metrics=[\"accuracy\"])\n",
        "history_tensorboard = model_tensorboard.fit(X_train, y_train, epochs=5, batch_size=32,\n",
        "                                            validation_data=(X_test, y_test),\n",
        "                                            callbacks=[tensorboard_callback], verbose=0)\n",
        "\n",
        "print(f\"TensorBoard logs saved to: {log_dir}\")\n",
        "# To view the logs, run in a separate cell:\n",
        "# %tensorboard --logdir logs"
      ],
      "metadata": {
        "colab": {
          "base_uri": "https://localhost:8080/"
        },
        "id": "2nYDwpcFmeAF",
        "outputId": "5a388dd0-6d19-4e2f-fc66-5f8cd71741d7"
      },
      "execution_count": null,
      "outputs": [
        {
          "output_type": "stream",
          "name": "stdout",
          "text": [
            "TensorBoard logs saved to: logs/20250411-065124\n"
          ]
        }
      ]
    },
    {
      "cell_type": "code",
      "source": [
        "%load_ext tensorboard\n",
        "%tensorboard --logdir logs"
      ],
      "metadata": {
        "colab": {
          "base_uri": "https://localhost:8080/",
          "height": 822
        },
        "id": "k1tTgeFYnhAT",
        "outputId": "987d7c3d-80c0-441b-d0d7-66709034a31d"
      },
      "execution_count": null,
      "outputs": []
    },
    {
      "cell_type": "markdown",
      "source": [
        "### 5. Custom Loss Function (HuberLoss)\n",
        "\n",
        "This section demonstrates the implementation and use of a custom loss function called `HuberLoss`. The Huber loss is a loss function that is less sensitive to outliers in the data compared to the mean squared error (MSE) loss. It behaves like MSE for small errors and like the mean absolute error (MAE) for large errors, making it a robust loss function.\n",
        "\n",
        "**Implementation:**\n",
        "\n",
        "We define a Python function `huber_fn` that takes the true values (`y_true`), the predicted values (`y_pred`), and a `delta` parameter as input. The `delta` parameter defines the threshold at which the loss function transitions from squared error to linear error.\n",
        "\n",
        "* We calculate the element-wise error between the true and predicted values.\n",
        "* We determine which errors are \"small\" (absolute error less than or equal to `delta`).\n",
        "* For small errors, we calculate the squared loss (like MSE).\n",
        "* For large errors, we calculate a linear loss (like MAE but smoothed).\n",
        "* Finally, we use `tf.where` to conditionally apply either the squared loss or the linear loss based on the size of the error.\n",
        "\n",
        "**Usage:**\n",
        "\n",
        "1.  We create a simple sequential model with a single dense layer for a regression task.\n",
        "2.  We compile the model, specifying our custom `huber_fn` as the `loss` function and using the Adam optimizer.\n",
        "3.  We create a small synthetic dataset (`X_housing`, `y_housing`) for demonstration.\n",
        "4.  We train the model using this dataset for a number of epochs.\n",
        "5.  We then plot the training loss over the epochs to observe how the Huber loss decreases during training.\n",
        "\n",
        "**Expected Outcome:**\n",
        "\n",
        "The plot should show the Huber loss decreasing as the model learns to predict the target values. The final loss value will depend on the model's ability to fit the simple linear relationship in the data using the Huber loss function. The training process will be less influenced by potential outliers in the data compared to if we had used MSE."
      ],
      "metadata": {
        "id": "HxYBLknfoZiF"
      }
    },
    {
      "cell_type": "code",
      "source": [
        "### 5. Custom Loss Function (HuberLoss)\n",
        "\n",
        "def huber_fn(y_true, y_pred, delta=1.0):\n",
        "    error = y_true - y_pred\n",
        "    is_small_error = tf.abs(error) <= delta\n",
        "    squared_loss = tf.square(error) / 2\n",
        "    linear_loss = delta * tf.abs(error) - delta**2 / 2\n",
        "    return tf.where(is_small_error, squared_loss, linear_loss)\n",
        "\n",
        "model_custom_loss = keras.models.Sequential([\n",
        "    keras.layers.Dense(1, input_shape=[1]),\n",
        "])\n",
        "model_custom_loss.compile(loss=huber_fn, optimizer=\"adam\")\n",
        "\n",
        "X_housing = np.array([1, 2, 3, 4, 5])\n",
        "y_housing = np.array([2, 4, 6, 8, 10])\n",
        "history_custom_loss = model_custom_loss.fit(X_housing, y_housing, epochs=100, verbose=0)\n",
        "\n",
        "plt.plot(history_custom_loss.history['loss'])\n",
        "plt.xlabel(\"Epoch\")\n",
        "plt.ylabel(\"Huber Loss\")\n",
        "plt.title(\"Training with Custom Huber Loss\")\n",
        "plt.show()"
      ],
      "metadata": {
        "colab": {
          "base_uri": "https://localhost:8080/",
          "height": 527
        },
        "id": "1nHA1tyInt6c",
        "outputId": "1019106c-af65-4b91-af9c-60949494eaa4"
      },
      "execution_count": null,
      "outputs": [
        {
          "output_type": "stream",
          "name": "stderr",
          "text": [
            "/usr/local/lib/python3.11/dist-packages/keras/src/layers/core/dense.py:87: UserWarning: Do not pass an `input_shape`/`input_dim` argument to a layer. When using Sequential models, prefer using an `Input(shape)` object as the first layer in the model instead.\n",
            "  super().__init__(activity_regularizer=activity_regularizer, **kwargs)\n"
          ]
        },
        {
          "output_type": "display_data",
          "data": {
            "text/plain": [
              "<Figure size 640x480 with 1 Axes>"
            ],
            "image/png": "[encoded data removed]"
          },
          "metadata": {}
        }
      ]
    },
    {
      "cell_type": "markdown",
      "source": [
        "**Results for Custom Loss Function (HuberLoss):**\n",
        "\n",
        "The plot of the training loss over 100 epochs shows a decreasing trend. The Huber loss starts at a higher value and gradually decreases as the model learns to predict the output for the given input data. The final Huber loss value at the end of training is approximately 3.81.\n",
        "\n",
        "**Analysis:**\n",
        "\n",
        "The decreasing Huber loss indicates that the model is successfully learning to minimize the error between its predictions and the true values. The linear decrease suggests a relatively consistent learning rate for this simple linear regression problem.\n",
        "\n",
        "The Huber loss function's robustness to outliers is not explicitly demonstrated here since the synthetic dataset is clean. However, if the dataset contained outliers (data points far from the general trend), using Huber loss would likely result in a model that is less affected by these outliers compared to a model trained with Mean Squared Error. The `delta` parameter in the `huber_fn` controls the point at which the loss transitions from quadratic to linear; adjusting this parameter can influence the model's sensitivity to larger errors.\n",
        "\n",
        "In this specific case, the model is learning the underlying linear relationship in the data, as evidenced by the decreasing loss. The final loss value indicates the magnitude of the remaining error after 100 epochs of training with the Adam optimizer and the custom Huber loss function."
      ],
      "metadata": {
        "id": "TxhI_b0uo53A"
      }
    },
    {
      "cell_type": "markdown",
      "source": [
        "### 6. Custom Activation, Initializer, Regularizer, and Constraint\n",
        "\n",
        "This section demonstrates the use of custom activation functions, initializers, regularizers, and constraints within a Keras layer. These allow for fine-grained control over the behavior and properties of the individual layers in your neural network.\n",
        "\n",
        "* **Custom Activation (LeakyReLU):** Leaky ReLU is a type of activation function that aims to address the \"dying ReLU\" problem by allowing a small, non-zero gradient when the unit is not active.\n",
        "* **Custom Initializer (MyGlorotInitializer):** Initializers define the way to set the initial random weights of Keras layers. A good initialization strategy can help in faster convergence. Glorot (also known as Xavier) initialization is a common strategy that considers the number of input and output units. We'll create a custom version.\n",
        "* **Custom Regularizer (MyL1Regularizer):** Regularizers are used to apply penalties on layer parameters (e.g., weights) during optimization. L1 regularization adds a penalty equal to the absolute value of the weights, which can lead to sparse weights. We'll create a custom L1 regularizer.\n",
        "* **Custom Constraint (MyPositiveWeights):** Constraints define restrictions on the values of the weights during and after training. We'll create a constraint that forces weights to be non-negative.\n",
        "\n",
        "**Implementation:**\n",
        "\n",
        "We define each of these custom components as follows:\n",
        "\n",
        "* **`leaky_relu`:** We use the built-in `keras.layers.LeakyReLU` for simplicity.\n",
        "* **`MyGlorotInitializer`:** This class inherits from `keras.initializers.Initializer` and implements the Glorot uniform initialization logic.\n",
        "* **`MyL1Regularizer`:** This class inherits from `keras.regularizers.Regularizer` and calculates the L1 penalty on the weights. It also includes a `get_config` method for serialization.\n",
        "* **`MyPositiveWeights`:** This class inherits from `keras.constraints.Constraint` and uses `tf.where` to ensure weights are non-negative.\n",
        "\n",
        "**Code:**"
      ],
      "metadata": {
        "id": "0RHUDdD_pRhb"
      }
    },
    {
      "cell_type": "code",
      "source": [
        "### 6. Custom Activation, Initializer, Regularizer, and Constraint\n",
        "\n",
        "# Custom Activation (LeakyReLU)\n",
        "leaky_relu = keras.layers.LeakyReLU(alpha=0.2)\n",
        "\n",
        "# Custom Initializer (MyGlorotInitializer)\n",
        "class MyGlorotInitializer(keras.initializers.Initializer):\n",
        "    def __init__(self, seed=None):\n",
        "        self.seed = seed\n",
        "\n",
        "    def __call__(self, shape, dtype=None):\n",
        "        n_in, n_out = shape\n",
        "        limit = np.sqrt(2.0 / (n_in + n_out))\n",
        "        return tf.random.uniform(shape, -limit, limit, dtype=dtype, seed=self.seed)\n",
        "\n",
        "# Custom Regularizer (MyL1Regularizer)\n",
        "class MyL1Regularizer(keras.regularizers.Regularizer):\n",
        "    def __init__(self, factor):\n",
        "        self.factor = factor\n",
        "\n",
        "    def __call__(self, weights):\n",
        "        return tf.reduce_sum(tf.abs(weights)) * self.factor\n",
        "\n",
        "    def get_config(self):\n",
        "        return {'factor': float(self.factor)}\n",
        "\n",
        "# Custom Constraint (MyPositiveWeights)\n",
        "class MyPositiveWeights(keras.constraints.Constraint):\n",
        "    def __call__(self, w):\n",
        "        return tf.where(w < 0.0, tf.zeros_like(w), w)\n",
        "\n",
        "# Demonstrate their usage\n",
        "model_custom_components = keras.models.Sequential([\n",
        "    keras.layers.Dense(100, activation=leaky_relu,\n",
        "                       kernel_initializer=MyGlorotInitializer(seed=42),\n",
        "                       kernel_regularizer=MyL1Regularizer(factor=0.01),\n",
        "                       kernel_constraint=MyPositiveWeights(),\n",
        "                       input_shape=[28 * 28]),\n",
        "    keras.layers.Dense(10, activation=\"softmax\")\n",
        "])\n",
        "model_custom_components.compile(loss=\"sparse_categorical_crossentropy\", optimizer=\"adam\", metrics=[\"accuracy\"])\n",
        "history_custom_components = model_custom_components.fit(X_train, y_train, epochs=5, batch_size=32,\n",
        "                                                        validation_data=(X_test, y_test), verbose=0)\n",
        "\n",
        "_, acc_custom_components = model_custom_components.evaluate(X_test, y_test, verbose=0)\n",
        "print(f\"Test Accuracy with Custom Components: {acc_custom_components:.4f}\")"
      ],
      "metadata": {
        "colab": {
          "base_uri": "https://localhost:8080/"
        },
        "id": "XTSOwfVRpPGE",
        "outputId": "05a86d56-3b5d-4bda-e776-667d1f1979d0"
      },
      "execution_count": null,
      "outputs": [
        {
          "output_type": "stream",
          "name": "stderr",
          "text": [
            "/usr/local/lib/python3.11/dist-packages/keras/src/layers/activations/leaky_relu.py:41: UserWarning: Argument `alpha` is deprecated. Use `negative_slope` instead.\n",
            "  warnings.warn(\n"
          ]
        },
        {
          "output_type": "stream",
          "name": "stdout",
          "text": [
            "Test Accuracy with Custom Components: 0.7719\n"
          ]
        }
      ]
    },
    {
      "cell_type": "markdown",
      "source": [
        "**Results for Custom Activation, Initializer, Regularizer, and Constraint:**\n",
        "\n",
        "The test accuracy achieved by the model using the custom activation, initializer, regularizer, and constraint is approximately 0.7719.\n",
        "\n",
        "**Analysis:**\n",
        "\n",
        "This test accuracy reflects the combined effect of using LeakyReLU activation, the custom Glorot initializer, L1 regularization, and the positive weight constraint in the first dense layer.\n",
        "\n",
        "* **LeakyReLU:** The use of LeakyReLU aimed to mitigate the vanishing gradient problem, potentially allowing for better learning compared to standard ReLU, especially in deeper networks. However, in this relatively shallow network, the difference might not be very pronounced.\n",
        "* **MyGlorotInitializer:** The custom Glorot initializer was designed to provide a good initial weight distribution, facilitating more stable and faster training. While Glorot initialization is generally effective, its impact depends on the specific network architecture and dataset.\n",
        "* **MyL1Regularizer:** The L1 regularizer adds a penalty to the loss proportional to the absolute values of the weights. This encourages sparsity in the weight matrix, meaning some weights become exactly zero. Sparse weights can simplify the model and potentially improve generalization, but they can also reduce model capacity if the regularization is too strong.\n",
        "* **MyPositiveWeights:** The constraint forcing weights to be non-negative restricts the model's solution space. This might be useful in specific applications where positive weights have a physical interpretation, but it can also limit the model's ability to fit complex relationships in the data.\n",
        "\n",
        "The relatively lower accuracy (0.7719) compared to some previous runs suggests that the combination of these custom components, particularly the L1 regularizer and the positive weight constraint, might be limiting the model's capacity or making the optimization more challenging for this specific task and training duration. The choice of the regularization factor (0.01) is crucial; a different factor could lead to different results.\n",
        "\n",
        "It's important to remember that the optimal combination of these components is highly dependent on the problem at hand, and careful experimentation and hyperparameter tuning are often required."
      ],
      "metadata": {
        "id": "Oc5VVTOQpoBu"
      }
    },
    {
      "cell_type": "markdown",
      "source": [
        "### 7. Custom Metric (HuberMetric)\n",
        "\n",
        "This section demonstrates the creation and use of a custom metric in Keras. Metrics are functions that are used to judge the performance of your model. Unlike loss functions, which are used by the optimization process, metrics are evaluated on the entire dataset at the end of each epoch (or batch, if specified) and are intended for human interpretation.\n",
        "\n",
        "Here, we will implement the Huber loss as a metric. While we already used it as a loss function, defining it as a metric allows us to track this robust error measure during training, even if our primary loss function is different (e.g., Mean Squared Error).\n",
        "\n",
        "**Implementation:**\n",
        "\n",
        "We define the `HuberMetric` class by inheriting from `keras.metrics.Mean`. The `keras.metrics.Mean` class is a simple utility for computing the average of a stream of values.\n",
        "\n",
        "* **`__init__`:** The constructor takes a `delta` parameter (similar to the Huber loss function), a `name` for the metric, and a `dtype`. It calls the constructor of the parent class.\n",
        "* **`update_state`:** This method is called for each batch of predictions. It calculates the Huber loss between `y_true` and `y_pred` using the same logic as our custom loss function and then updates the state of the `Mean` metric by adding these Huber loss values.\n",
        "* **`get_config`:** This method is used to serialize the metric and is important if you want to save and load your model. We override it to include the `delta` parameter in the configuration.\n",
        "\n",
        "**Code:**"
      ],
      "metadata": {
        "id": "dDDR3fFJqBqa"
      }
    },
    {
      "cell_type": "code",
      "source": [
        "### 7. Custom Metric (HuberMetric)\n",
        "\n",
        "class HuberMetric(keras.metrics.Mean):\n",
        "    def __init__(self, delta=1.0, name='huber_loss', dtype=None):\n",
        "        self.delta = delta\n",
        "        super().__init__(name=name, dtype=dtype)\n",
        "\n",
        "    def update_state(self, y_true, y_pred, sample_weight=None):\n",
        "        y_true = tf.cast(y_true, tf.float32)\n",
        "        y_pred = tf.cast(y_pred, tf.float32)\n",
        "        error = y_true - y_pred\n",
        "        is_small_error = tf.abs(error) <= self.delta\n",
        "        squared_loss = tf.square(error) / 2\n",
        "        linear_loss = self.delta * tf.abs(error) - self.delta**2 / 2\n",
        "        huber_loss = tf.where(is_small_error, squared_loss, linear_loss)\n",
        "        return super().update_state(huber_loss, sample_weight=sample_weight)\n",
        "\n",
        "    def get_config(self):\n",
        "        config = super().get_config()\n",
        "        config.update({'delta': self.delta})\n",
        "        return config\n",
        "\n",
        "model_custom_metric = keras.models.Sequential([\n",
        "    keras.layers.Dense(1, input_shape=[1]),\n",
        "])\n",
        "model_custom_metric.compile(loss=\"mse\", optimizer=\"adam\", metrics=[HuberMetric(delta=1.0)])\n",
        "history_custom_metric = model_custom_metric.fit(X_housing, y_housing, epochs=100, verbose=0)\n",
        "\n",
        "plt.plot(history_custom_metric.history['huber_loss'])\n",
        "plt.xlabel(\"Epoch\")\n",
        "plt.ylabel(\"Huber Metric\")\n",
        "plt.title(\"Huber Metric during Training\")\n",
        "plt.show()"
      ],
      "metadata": {
        "colab": {
          "base_uri": "https://localhost:8080/",
          "height": 472
        },
        "id": "XJJS644OowoY",
        "outputId": "398aa14a-d6c7-433a-a103-e8330921622c"
      },
      "execution_count": null,
      "outputs": [
        {
          "output_type": "display_data",
          "data": {
            "text/plain": [
              "<Figure size 640x480 with 1 Axes>"
            ],
            "image/png": "[encoded data removed]"
          },
          "metadata": {}
        }
      ]
    },
    {
      "cell_type": "markdown",
      "source": [
        "**Results for Custom Metric (HuberMetric):**\n",
        "\n",
        "The plot shows the value of the Huber metric during the 100 epochs of training. The Huber metric starts at approximately 5.51 and steadily decreases to around 5.13 by the end of training.\n",
        "\n",
        "**Analysis:**\n",
        "\n",
        "The decreasing Huber metric indicates that the model's predictions are getting closer to the true values over the training process, as measured by the Huber loss function. Even though the model was trained to minimize the Mean Squared Error (MSE) loss, we can observe the behavior of the Huber loss as a metric.\n",
        "\n",
        "The Huber loss, being less sensitive to outliers than MSE, provides a more robust measure of the average error, especially if the data contained any extreme values. The consistent decrease in the Huber metric suggests that the model is not only reducing the squared error but also the more outlier-resistant Huber error.\n",
        "\n",
        "Tracking relevant metrics like the Huber loss, even when it's not the primary loss function, can provide valuable insights into the training dynamics and the model's performance from different perspectives. In scenarios where outliers are a concern, monitoring a robust metric like Huber loss can give a more stable evaluation of the model's generalization capability."
      ],
      "metadata": {
        "id": "u0hQVr60qc-l"
      }
    },
    {
      "cell_type": "markdown",
      "source": [
        "### 8. Custom Layers\n",
        "\n",
        "This section demonstrates the creation and usage of several custom layers in Keras. Custom layers provide the flexibility to define unique computations that are not available in the built-in Keras layers, allowing you to build highly specialized model architectures.\n",
        "\n",
        "**Implementation:**\n",
        "\n",
        "We define four custom layers:\n",
        "\n",
        "1.  **`ExponentialLayer`:** This layer applies a dense transformation to the input and then takes the exponential of the result. It demonstrates how to wrap existing layers and apply custom transformations.\n",
        "2.  **`MyDense`:** This layer is a re-implementation of a standard dense layer from scratch. It shows how to define and manage the layer's weights (kernel and bias) and implement the forward pass (`call` method). It also includes `compute_output_shape` and `get_config` for proper Keras integration.\n",
        "3.  **`AddGaussianNoise`:** This layer adds Gaussian noise to the input during training. This is a form of regularization that can improve the model's robustness. The noise is only added when the `training` flag in the `call` method is `True`.\n",
        "4.  **`LayerNormalization`:** For brevity, we use the built-in `keras.layers.LayerNormalization`. However, you could also implement this as a custom layer if needed. Layer normalization normalizes the activations of each layer across all the units within that layer.\n",
        "\n",
        "**Usage:**\n",
        "\n",
        "We build a sequential model that incorporates these custom layers:\n",
        "\n",
        "1.  `MyDense`: Our custom dense layer as the first layer.\n",
        "2.  `ExponentialLayer`: Applies an exponential transformation after a dense layer.\n",
        "3.  `AddGaussianNoise`: Adds noise for regularization during training.\n",
        "4.  `LayerNormalization`: Applies layer normalization.\n",
        "5.  A standard `Dense` output layer.\n",
        "\n",
        "The model is then compiled and trained on the Fashion MNIST dataset. Finally, it is evaluated on the test set.\n",
        "\n",
        "**Expected Outcome:**\n",
        "\n",
        "The output will be the test accuracy achieved by the model incorporating these custom layers. The performance will depend on the effectiveness of the chosen custom computations and their interaction within the network architecture. Custom layers allow for experimentation with novel architectural elements and can be crucial for achieving state-of-the-art results in specific domains."
      ],
      "metadata": {
        "id": "fdNoK2umq3Bx"
      }
    },
    {
      "cell_type": "code",
      "source": [
        "### 8. Custom Layers\n",
        "\n",
        "# Custom Layer 1: ExponentialLayer\n",
        "class ExponentialLayer(keras.layers.Layer):\n",
        "    def __init__(self, units, **kwargs):\n",
        "        super().__init__(**kwargs)\n",
        "        self.units = units\n",
        "        self.dense = keras.layers.Dense(units)\n",
        "\n",
        "    def call(self, inputs):\n",
        "        return tf.exp(self.dense(inputs))\n",
        "\n",
        "    def compute_output_shape(self, input_shape):\n",
        "        return self.dense.compute_output_shape(input_shape)\n",
        "\n",
        "    def get_config(self):\n",
        "        config = super().get_config()\n",
        "        config.update({'units': self.units})\n",
        "        return config\n",
        "\n",
        "# Custom Layer 2: MyDense\n",
        "class MyDense(keras.layers.Layer):\n",
        "    def __init__(self, units, activation=None, **kwargs):\n",
        "        super().__init__(**kwargs)\n",
        "        self.units = units\n",
        "        self.activation = keras.activations.get(activation)\n",
        "        self.kernel = None\n",
        "        self.bias = None\n",
        "\n",
        "    def build(self, input_shape):\n",
        "        self.kernel = self.add_weight(name='kernel',\n",
        "                                      shape=(input_shape[-1], self.units),\n",
        "                                      initializer='glorot_normal',\n",
        "                                      trainable=True)\n",
        "        self.bias = self.add_weight(name='bias',\n",
        "                                    shape=(self.units,),\n",
        "                                    initializer='zeros',\n",
        "                                    trainable=True)\n",
        "        super().build(input_shape)\n",
        "\n",
        "    def call(self, inputs):\n",
        "        return self.activation(tf.matmul(inputs, self.kernel) + self.bias)\n",
        "\n",
        "    def compute_output_shape(self, input_shape):\n",
        "        return (input_shape[0], self.units)\n",
        "\n",
        "    def get_config(self):\n",
        "        config = super().get_config()\n",
        "        config.update({'units': self.units,\n",
        "                       'activation': keras.activations.serialize(self.activation)})\n",
        "        return config\n",
        "\n",
        "# Custom Layer 3: AddGaussianNoise\n",
        "class AddGaussianNoise(keras.layers.Layer):\n",
        "    def __init__(self, stddev, **kwargs):\n",
        "        super().__init__(**kwargs)\n",
        "        self.stddev = stddev\n",
        "\n",
        "    def call(self, inputs, training=None):\n",
        "        if training:\n",
        "            noise = tf.random.normal(tf.shape(inputs), stddev=self.stddev)\n",
        "            return inputs + noise\n",
        "        return inputs\n",
        "\n",
        "    def compute_output_shape(self, input_shape):\n",
        "        return input_shape\n",
        "\n",
        "    def get_config(self):\n",
        "        config = super().get_config()\n",
        "        config.update({'stddev': self.stddev})\n",
        "        return config\n",
        "\n",
        "# Custom Layer 4: LayerNormalization (using built-in for brevity)\n",
        "LayerNormalization = keras.layers.LayerNormalization\n",
        "\n",
        "# Demonstrate their usage\n",
        "model_custom_layers = keras.models.Sequential([\n",
        "    MyDense(100, activation=\"relu\", input_shape=[28 * 28]),\n",
        "    ExponentialLayer(100),\n",
        "    AddGaussianNoise(stddev=0.1),\n",
        "    LayerNormalization(),\n",
        "    keras.layers.Dense(10, activation=\"softmax\")\n",
        "])\n",
        "model_custom_layers.compile(loss=\"sparse_categorical_crossentropy\", optimizer=\"adam\", metrics=[\"accuracy\"])\n",
        "history_custom_layers = model_custom_layers.fit(X_train, y_train, epochs=5, batch_size=32,\n",
        "                                                validation_data=(X_test, y_test), verbose=0)\n",
        "\n",
        "_, acc_custom_layers = model_custom_layers.evaluate(X_test, y_test, verbose=0)\n",
        "print(f\"Test Accuracy with Custom Layers: {acc_custom_layers:.4f}\")"
      ],
      "metadata": {
        "colab": {
          "base_uri": "https://localhost:8080/"
        },
        "id": "exUtNKadqFRH",
        "outputId": "050acdde-9882-465d-9917-8bd4801d4092"
      },
      "execution_count": null,
      "outputs": [
        {
          "output_type": "stream",
          "name": "stderr",
          "text": [
            "<ipython-input-24-c372160a27e6>:24: UserWarning: Do not pass an `input_shape`/`input_dim` argument to a layer. When using Sequential models, prefer using an `Input(shape)` object as the first layer in the model instead.\n",
            "  super().__init__(**kwargs)\n"
          ]
        },
        {
          "output_type": "stream",
          "name": "stdout",
          "text": [
            "Test Accuracy with Custom Layers: 0.8639\n"
          ]
        }
      ]
    },
    {
      "cell_type": "markdown",
      "source": [
        "### 9. Custom Model (ResidualRegressor and ResidualBlock)\n",
        "\n",
        "This section demonstrates how to build a custom model in Keras by subclassing the `tf.keras.Model` class and creating custom blocks or layers that are then assembled into a specific architecture. This provides maximum flexibility in defining complex model structures, such as those with skip connections (like ResNets).\n",
        "\n",
        "Here, we will create a simple `ResidualBlock` and then use it to build a `ResidualRegressor` model for a hypothetical regression task.\n",
        "\n",
        "**Implementation:**\n",
        "\n",
        "1.  **`ResidualBlock`:** This custom layer will implement a basic residual connection. It will consist of two dense layers with ReLU activation. The output of the second dense layer will be added to the original input of the block. This \"skip connection\" helps in training deeper networks by allowing gradients to flow more easily.\n",
        "2.  **`ResidualRegressor`:** This custom model will inherit from `tf.keras.Model`. In its `__init__` method, it will define an initial dense layer, several `ResidualBlock` instances, and a final output dense layer. The `call` method will define the forward pass of the model, connecting these layers and blocks.\n"
      ],
      "metadata": {
        "id": "nRnsTTN9rU6q"
      }
    },
    {
      "cell_type": "code",
      "source": [
        "### 9. Custom Model (ResidualRegressor and ResidualBlock)\n",
        "\n",
        "class ResidualBlock(keras.layers.Layer):\n",
        "    def __init__(self, units, activation=\"relu\", **kwargs):\n",
        "        super().__init__(**kwargs)\n",
        "        self.units = units\n",
        "        self.activation = keras.activations.get(activation)\n",
        "        self.dense1 = keras.layers.Dense(units, activation=activation)\n",
        "        self.dense2 = keras.layers.Dense(units, activation=activation)\n",
        "        self.add = keras.layers.Add()\n",
        "\n",
        "    def call(self, inputs):\n",
        "        residual = inputs\n",
        "        x = self.dense1(inputs)\n",
        "        x = self.dense2(x)\n",
        "        return self.add([residual, x])\n",
        "\n",
        "    def get_config(self):\n",
        "        config = super().get_config()\n",
        "        config.update({'units': self.units, 'activation': keras.activations.serialize(self.activation)})\n",
        "        return config\n",
        "\n",
        "class ResidualRegressor(keras.Model):\n",
        "    def __init__(self, num_residual_blocks, units, output_dim, **kwargs):\n",
        "        super().__init__(**kwargs)\n",
        "        self.initial_dense = keras.layers.Dense(units, activation=\"relu\", input_shape=[1])\n",
        "        self.residual_blocks = [ResidualBlock(units) for _ in range(num_residual_blocks)]\n",
        "        self.out_dense = keras.layers.Dense(output_dim)\n",
        "\n",
        "    def call(self, inputs):\n",
        "        x = self.initial_dense(inputs)\n",
        "        for block in self.residual_blocks:\n",
        "            x = block(x)\n",
        "        return self.out_dense(x)\n",
        "\n",
        "    def get_config(self):\n",
        "        config = super().get_config()\n",
        "        config.update({'num_residual_blocks': len(self.residual_blocks),\n",
        "                       'units': self.initial_dense.units,\n",
        "                       'output_dim': self.out_dense.units})\n",
        "        return config\n",
        "\n",
        "# Demonstrate the custom model\n",
        "model_custom_model = ResidualRegressor(num_residual_blocks=2, units=32, output_dim=1)\n",
        "model_custom_model.compile(optimizer=\"adam\", loss=\"mse\")\n",
        "\n",
        "X_housing = np.array(range(10)).astype(np.float32).reshape(-1, 1)\n",
        "y_housing = X_housing * 2 + 1 + np.random.randn(10, 1) * 3\n",
        "\n",
        "history_custom_model = model_custom_model.fit(X_housing, y_housing, epochs=100, verbose=0)\n",
        "\n",
        "plt.plot(history_custom_model.history['loss'])\n",
        "plt.xlabel(\"Epoch\")\n",
        "plt.ylabel(\"MSE Loss\")\n",
        "plt.title(\"Training of Custom Residual Regressor\")\n",
        "plt.show()"
      ],
      "metadata": {
        "colab": {
          "base_uri": "https://localhost:8080/",
          "height": 472
        },
        "id": "-e5IrIZGq3z5",
        "outputId": "a0f99aa5-111b-4bcf-8e8e-a60aab575bef"
      },
      "execution_count": null,
      "outputs": [
        {
          "output_type": "display_data",
          "data": {
            "text/plain": [
              "<Figure size 640x480 with 1 Axes>"
            ],
            "image/png": "[encoded data removed]"
          },
          "metadata": {}
        }
      ]
    },
    {
      "cell_type": "markdown",
      "source": [
        "**Results for Custom Model (ResidualRegressor and ResidualBlock):**\n",
        "\n",
        "The plot shows the Mean Squared Error (MSE) loss during the training of the custom `ResidualRegressor` over 100 epochs. The loss starts at a high value (around 250) and rapidly decreases in the initial epochs. It continues to decrease, albeit at a slower rate, before plateauing around a low value (below 10) towards the end of training.\n",
        "\n",
        "**Analysis:**\n",
        "\n",
        "The decreasing MSE loss indicates that the custom `ResidualRegressor` model is successfully learning to fit the synthetic regression data. The use of residual blocks appears to have enabled the model to learn the underlying relationship, even with a relatively small number of blocks and training epochs.\n",
        "\n",
        "Residual connections help in training deeper networks by allowing the gradient to flow more directly through the network, bypassing some of the intermediate layers. This mitigates the vanishing gradient problem and can lead to better performance in deeper architectures.\n",
        "\n",
        "In this simple regression task, the custom `ResidualRegressor` with two residual blocks was able to significantly reduce the loss, suggesting that the model has learned to approximate the underlying function ($y = 2x + 1$ with some added noise). The plateauing of the loss indicates that the model has converged to a point where further training does not significantly reduce the error.\n",
        "\n",
        "This example demonstrates the power and flexibility of subclassing `tf.keras.Model` to create custom model architectures with specific building blocks like the `ResidualBlock`. This approach is fundamental for implementing more advanced and specialized neural network designs."
      ],
      "metadata": {
        "id": "e3e0A0wYtU8U"
      }
    },
    {
      "cell_type": "markdown",
      "source": [
        "### 10. Custom Optimizer (MyMomentumOptimizer)\n",
        "\n",
        "This section demonstrates the creation of a custom optimizer in Keras. Optimizers are algorithms that adjust the model's weights during training to minimize the loss function. While Keras provides a wide range of built-in optimizers, you might need to create a custom one for specific research purposes or to implement a novel optimization algorithm.\n",
        "\n",
        "Here, we will implement a basic Momentum optimizer. Momentum helps accelerate gradient descent in the relevant direction and dampens oscillations as it accumulates a velocity vector of the gradients in the right direction.\n",
        "\n",
        "**Implementation:**\n",
        "\n",
        "We define the `MyMomentumOptimizer` class by inheriting from `keras.optimizers.Optimizer`.\n",
        "\n",
        "* **`__init__`:** The constructor takes the learning rate and the momentum factor as hyperparameters. It also calls the constructor of the parent class. We use `_build_learning_rate` to handle potential learning rate schedules.\n",
        "* **`build`:** This method is called once the optimizer knows the variables it will be optimizing (the model's weights). We create a list `self.momentums` to store the momentum value for each variable. These momentum variables are initialized to zero and are non-trainable.\n",
        "* **`update_step`:** This is the core of the optimizer. For each gradient-variable pair, it calculates the new momentum by combining the previous momentum with the current gradient (scaled by the learning rate). The variable's value is then updated by adding the new momentum.\n",
        "* **`get_config`:** This method is used to serialize the optimizer's configuration, including its hyperparameters.\n",
        "\n",
        "**Usage:**\n",
        "\n",
        "1.  We build a simple sequential model.\n",
        "2.  We create an instance of our custom `MyMomentumOptimizer`, specifying a learning rate and momentum value.\n",
        "3.  We compile the model, using our custom optimizer.\n",
        "4.  We train the model on the Fashion MNIST dataset.\n",
        "5.  Finally, we evaluate the model on the test set to see the performance achieved with our custom optimizer.\n",
        "\n",
        "**Expected Outcome:**\n",
        "\n",
        "The output will be the test accuracy achieved by the model using the `MyMomentumOptimizer`. The performance will depend on the chosen learning rate and momentum values. A well-tuned momentum optimizer can often lead to faster convergence and better generalization compared to standard gradient descent."
      ],
      "metadata": {
        "id": "yyO5vagItYou"
      }
    },
    {
      "cell_type": "code",
      "source": [
        "import tensorflow as tf\n",
        "from tensorflow import keras\n",
        "\n",
        "print(\"TensorFlow version:\", tf.__version__)\n",
        "\n",
        "# Define the Custom Optimizer (Keras 3 build method implementation)\n",
        "class MyMomentumOptimizer(keras.optimizers.Optimizer):\n",
        "    def __init__(self, learning_rate=0.01, momentum=0.9, name=\"MyMomentumOptimizer\", **kwargs):\n",
        "        super().__init__(learning_rate=learning_rate, name=name, **kwargs)\n",
        "        self.momentum = momentum\n",
        "        self.momentums = {}\n",
        "        self._built = False\n",
        "\n",
        "    def build(self, var_list):\n",
        "        \"\"\"Initialize optimizer state variables.\"\"\"\n",
        "        if self._built:\n",
        "            return\n",
        "        super().build(var_list)\n",
        "        self.momentums = {}\n",
        "        for var in var_list:\n",
        "            self.momentums[var.name] = self.add_variable_from_reference(\n",
        "                reference_variable=var,\n",
        "                name=f\"momentum_{var.name.replace(':', '_')}\"\n",
        "            )\n",
        "        self._built = True\n",
        "\n",
        "    def update_step(self, gradient, variable, learning_rate):\n",
        "        \"\"\"Applies the update step for a single variable.\"\"\"\n",
        "        if not self._built:\n",
        "            raise ValueError(\n",
        "                f\"Optimizer '{self.name}' has not been built yet. Build the \"\n",
        "                \"optimizer before calling update_step.\"\n",
        "            )\n",
        "\n",
        "        var_dtype = variable.dtype.base_dtype\n",
        "        grad = tf.cast(gradient, var_dtype)\n",
        "        lr_t = tf.cast(learning_rate, var_dtype)\n",
        "        momentum_t = tf.cast(self.momentum, var_dtype)\n",
        "\n",
        "        var_name = variable.name\n",
        "        if var_name not in self.momentums:\n",
        "            raise ValueError(\n",
        "                f\"Optimizer slot 'momentum' not found for variable {variable.name}. \"\n",
        "                \"Ensure the variable was included in `build()`.\"\n",
        "            )\n",
        "\n",
        "        momentum_var = self.momentums[var_name]\n",
        "        new_momentum = momentum_t * momentum_var + (1.0 - momentum_t) * grad\n",
        "        momentum_var.assign(new_momentum, use_locking=self._use_locking, read_value=False)\n",
        "        variable.assign_sub(lr_t * new_momentum, use_locking=self._use_locking, read_value=False)\n",
        "\n",
        "    def get_config(self):\n",
        "        base_config = super().get_config()\n",
        "        base_config.update({\"momentum\": self.momentum})\n",
        "        return base_config\n",
        "\n",
        "\n",
        "# Load MNIST dataset\n",
        "(x_train, y_train), (x_test, y_test) = keras.datasets.mnist.load_data()\n",
        "x_train = x_train.reshape(60000, 784).astype(\"float32\") / 255.0\n",
        "x_test = x_test.reshape(10000, 784).astype(\"float32\") / 255.0\n",
        "y_train = y_train.astype(\"float32\")\n",
        "y_test = y_test.astype(\"float32\")\n",
        "\n",
        "# Build a simple model\n",
        "inputs = keras.Input(shape=(784,))\n",
        "x = keras.layers.Dense(128, activation=\"relu\")(inputs)\n",
        "outputs = keras.layers.Dense(10, activation=\"softmax\")(x)\n",
        "model = keras.Model(inputs=inputs, outputs=outputs)\n",
        "\n",
        "# Compile with custom optimizer\n",
        "custom_optimizer = MyMomentumOptimizer(learning_rate=0.01, momentum=0.95)\n",
        "model.compile(optimizer=custom_optimizer,\n",
        "              loss=\"sparse_categorical_crossentropy\",\n",
        "              metrics=[\"accuracy\"])\n",
        "\n",
        "# Train the model\n",
        "print(\"Training with Custom Momentum Optimizer:\")\n",
        "try:\n",
        "    history = model.fit(x_train, y_train, epochs=5, batch_size=32, validation_split=0.1)\n",
        "except Exception as e:\n",
        "    print(f\"\\nAn error occurred during training: {e}\")\n",
        "    import traceback\n",
        "    traceback.print_exc()\n",
        "    history = None\n",
        "\n",
        "# Evaluate and save if successful\n",
        "if history:\n",
        "    print(\"\\nEvaluating on test set:\")\n",
        "    loss, accuracy = model.evaluate(x_test, y_test, verbose=0)\n",
        "    print(f\"Test Loss: {loss:.4f}\")\n",
        "    print(f\"Test Accuracy: {accuracy:.4f}\")\n",
        "\n",
        "    model.save(\"model_with_custom_optimizer.keras\")\n",
        "    print(\"\\nModel saved.\")\n",
        "\n",
        "    loaded_model = keras.models.load_model(\n",
        "        \"model_with_custom_optimizer.keras\",\n",
        "        custom_objects={\"MyMomentumOptimizer\": MyMomentumOptimizer}\n",
        "    )\n",
        "    print(\"Model loaded.\")\n",
        "    print(\"Loaded model optimizer config:\", loaded_model.optimizer.get_config())\n",
        "\n",
        "    if hasattr(loaded_model.optimizer, 'momentums'):\n",
        "        print(f\"Loaded optimizer has {len(loaded_model.optimizer.momentums)} momentum variables.\")\n",
        "\n",
        "    print(\"\\nEvaluating loaded model on test set:\")\n",
        "    loss, accuracy = loaded_model.evaluate(x_test, y_test, verbose=0)\n",
        "    print(f\"Loaded Model Test Loss: {loss:.4f}\")\n",
        "    print(f\"Loaded Model Test Accuracy: {accuracy:.4f}\")\n"
      ],
      "metadata": {
        "colab": {
          "base_uri": "https://localhost:8080/"
        },
        "id": "bHkbHDPQrZ0Z",
        "outputId": "706662ae-74b3-4279-cca8-c2409acdee96"
      },
      "execution_count": null,
      "outputs": [
        {
          "output_type": "stream",
          "name": "stdout",
          "text": [
            "TensorFlow version: 2.18.0\n",
            "Training with Custom Momentum Optimizer:\n",
            "Epoch 1/5\n",
            "\n",
            "An error occurred during training: Optimizer slot 'momentum' not found for variable dense_87/kernel:0. Ensure the variable was included in `build()`.\n"
          ]
        },
        {
          "output_type": "stream",
          "name": "stderr",
          "text": [
            "Traceback (most recent call last):\n",
            "  File \"<ipython-input-66-4e57372ce3ba>\", line 80, in <cell line: 0>\n",
            "    history = model.fit(x_train, y_train, epochs=5, batch_size=32, validation_split=0.1)\n",
            "              ^^^^^^^^^^^^^^^^^^^^^^^^^^^^^^^^^^^^^^^^^^^^^^^^^^^^^^^^^^^^^^^^^^^^^^^^^^\n",
            "  File \"/usr/local/lib/python3.11/dist-packages/keras/src/utils/traceback_utils.py\", line 122, in error_handler\n",
            "    raise e.with_traceback(filtered_tb) from None\n",
            "  File \"<ipython-input-66-4e57372ce3ba>\", line 42, in update_step\n",
            "    raise ValueError(\n",
            "ValueError: Optimizer slot 'momentum' not found for variable dense_87/kernel:0. Ensure the variable was included in `build()`.\n"
          ]
        }
      ]
    },
    {
      "cell_type": "code",
      "source": [
        "import tensorflow as tf\n",
        "from tensorflow import keras\n",
        "\n",
        "class MyMomentumOptimizer(keras.optimizers.Optimizer):\n",
        "    def __init__(self, learning_rate=0.01, momentum=0.9, name=\"MyMomentumOptimizer\", **kwargs):\n",
        "        super().__init__(learning_rate=learning_rate, name=name, **kwargs)\n",
        "        self.momentum = momentum\n",
        "        self.momentums = {}\n",
        "\n",
        "    def build(self, var_list):\n",
        "        super().build(var_list)\n",
        "        self.momentums = {}\n",
        "        for var in var_list:\n",
        "            key = var._shared_name  # Unique and stable\n",
        "            self.momentums[key] = self.add_variable_from_reference(\n",
        "                reference_variable=var,\n",
        "                name=f\"momentum_{key}\"\n",
        "            )\n",
        "\n",
        "    def update_step(self, gradient, variable, learning_rate=None):\n",
        "        if gradient is None:\n",
        "            return\n",
        "        if learning_rate is None:\n",
        "            learning_rate = self.learning_rate\n",
        "\n",
        "        lr = tf.cast(learning_rate, variable.dtype)\n",
        "        momentum_t = tf.cast(self.momentum, variable.dtype)\n",
        "\n",
        "        key = variable._shared_name\n",
        "        momentum_var = self.momentums[key]\n",
        "        new_momentum = momentum_t * momentum_var + (1.0 - momentum_t) * gradient\n",
        "        momentum_var.assign(new_momentum)\n",
        "        variable.assign_sub(lr * new_momentum)\n",
        "\n",
        "    def get_config(self):\n",
        "        config = super().get_config()\n",
        "        config.update({\"momentum\": self.momentum})\n",
        "        return config\n"
      ],
      "metadata": {
        "id": "CnCIw7dxuePt"
      },
      "execution_count": null,
      "outputs": []
    },
    {
      "cell_type": "code",
      "source": [
        "(x_train, y_train), (x_test, y_test) = keras.datasets.mnist.load_data()\n",
        "x_train = x_train.reshape(-1, 784).astype(\"float32\") / 255.0\n",
        "x_test = x_test.reshape(-1, 784).astype(\"float32\") / 255.0\n",
        "\n",
        "model = keras.Sequential([\n",
        "    keras.layers.Dense(128, activation=\"relu\", input_shape=(784,)),\n",
        "    keras.layers.Dense(10, activation=\"softmax\")\n",
        "])\n",
        "\n",
        "optimizer = MyMomentumOptimizer(learning_rate=0.01, momentum=0.95)\n",
        "model.compile(optimizer=optimizer, loss=\"sparse_categorical_crossentropy\", metrics=[\"accuracy\"])\n",
        "model.fit(x_train, y_train, epochs=5, batch_size=32, validation_split=0.1)\n"
      ],
      "metadata": {
        "colab": {
          "base_uri": "https://localhost:8080/",
          "height": 339
        },
        "id": "RqmYLgg91HtU",
        "outputId": "d6bbb363-f6c6-4656-82d1-ff19b5c8b037"
      },
      "execution_count": null,
      "outputs": [
        {
          "output_type": "stream",
          "name": "stdout",
          "text": [
            "Epoch 1/5\n"
          ]
        },
        {
          "output_type": "error",
          "ename": "ValueError",
          "evalue": "Argument `name` must be a string and cannot contain character `/`. Received: name=sequential_39_dense_97_kernel_momentum_sequential_39/dense_97/kernel",
          "traceback": [
            "\u001b[0;31m---------------------------------------------------------------------------\u001b[0m",
            "\u001b[0;31mValueError\u001b[0m                                Traceback (most recent call last)",
            "\u001b[0;32m<ipython-input-77-05e3ef34709b>\u001b[0m in \u001b[0;36m<cell line: 0>\u001b[0;34m()\u001b[0m\n\u001b[1;32m     10\u001b[0m \u001b[0moptimizer\u001b[0m \u001b[0;34m=\u001b[0m \u001b[0mMyMomentumOptimizer\u001b[0m\u001b[0;34m(\u001b[0m\u001b[0mlearning_rate\u001b[0m\u001b[0;34m=\u001b[0m\u001b[0;36m0.01\u001b[0m\u001b[0;34m,\u001b[0m \u001b[0mmomentum\u001b[0m\u001b[0;34m=\u001b[0m\u001b[0;36m0.95\u001b[0m\u001b[0;34m)\u001b[0m\u001b[0;34m\u001b[0m\u001b[0;34m\u001b[0m\u001b[0m\n\u001b[1;32m     11\u001b[0m \u001b[0mmodel\u001b[0m\u001b[0;34m.\u001b[0m\u001b[0mcompile\u001b[0m\u001b[0;34m(\u001b[0m\u001b[0moptimizer\u001b[0m\u001b[0;34m=\u001b[0m\u001b[0moptimizer\u001b[0m\u001b[0;34m,\u001b[0m \u001b[0mloss\u001b[0m\u001b[0;34m=\u001b[0m\u001b[0;34m\"sparse_categorical_crossentropy\"\u001b[0m\u001b[0;34m,\u001b[0m \u001b[0mmetrics\u001b[0m\u001b[0;34m=\u001b[0m\u001b[0;34m[\u001b[0m\u001b[0;34m\"accuracy\"\u001b[0m\u001b[0;34m]\u001b[0m\u001b[0;34m)\u001b[0m\u001b[0;34m\u001b[0m\u001b[0;34m\u001b[0m\u001b[0m\n\u001b[0;32m---> 12\u001b[0;31m \u001b[0mmodel\u001b[0m\u001b[0;34m.\u001b[0m\u001b[0mfit\u001b[0m\u001b[0;34m(\u001b[0m\u001b[0mx_train\u001b[0m\u001b[0;34m,\u001b[0m \u001b[0my_train\u001b[0m\u001b[0;34m,\u001b[0m \u001b[0mepochs\u001b[0m\u001b[0;34m=\u001b[0m\u001b[0;36m5\u001b[0m\u001b[0;34m,\u001b[0m \u001b[0mbatch_size\u001b[0m\u001b[0;34m=\u001b[0m\u001b[0;36m32\u001b[0m\u001b[0;34m,\u001b[0m \u001b[0mvalidation_split\u001b[0m\u001b[0;34m=\u001b[0m\u001b[0;36m0.1\u001b[0m\u001b[0;34m)\u001b[0m\u001b[0;34m\u001b[0m\u001b[0;34m\u001b[0m\u001b[0m\n\u001b[0m",
            "\u001b[0;32m/usr/local/lib/python3.11/dist-packages/keras/src/utils/traceback_utils.py\u001b[0m in \u001b[0;36merror_handler\u001b[0;34m(*args, **kwargs)\u001b[0m\n\u001b[1;32m    120\u001b[0m             \u001b[0;31m# To get the full stack trace, call:\u001b[0m\u001b[0;34m\u001b[0m\u001b[0;34m\u001b[0m\u001b[0m\n\u001b[1;32m    121\u001b[0m             \u001b[0;31m# `keras.config.disable_traceback_filtering()`\u001b[0m\u001b[0;34m\u001b[0m\u001b[0;34m\u001b[0m\u001b[0m\n\u001b[0;32m--> 122\u001b[0;31m             \u001b[0;32mraise\u001b[0m \u001b[0me\u001b[0m\u001b[0;34m.\u001b[0m\u001b[0mwith_traceback\u001b[0m\u001b[0;34m(\u001b[0m\u001b[0mfiltered_tb\u001b[0m\u001b[0;34m)\u001b[0m \u001b[0;32mfrom\u001b[0m \u001b[0;32mNone\u001b[0m\u001b[0;34m\u001b[0m\u001b[0;34m\u001b[0m\u001b[0m\n\u001b[0m\u001b[1;32m    123\u001b[0m         \u001b[0;32mfinally\u001b[0m\u001b[0;34m:\u001b[0m\u001b[0;34m\u001b[0m\u001b[0;34m\u001b[0m\u001b[0m\n\u001b[1;32m    124\u001b[0m             \u001b[0;32mdel\u001b[0m \u001b[0mfiltered_tb\u001b[0m\u001b[0;34m\u001b[0m\u001b[0;34m\u001b[0m\u001b[0m\n",
            "\u001b[0;32m<ipython-input-76-e88fbcb212a9>\u001b[0m in \u001b[0;36mbuild\u001b[0;34m(self, var_list)\u001b[0m\n\u001b[1;32m     13\u001b[0m         \u001b[0;32mfor\u001b[0m \u001b[0mvar\u001b[0m \u001b[0;32min\u001b[0m \u001b[0mvar_list\u001b[0m\u001b[0;34m:\u001b[0m\u001b[0;34m\u001b[0m\u001b[0;34m\u001b[0m\u001b[0m\n\u001b[1;32m     14\u001b[0m             \u001b[0mkey\u001b[0m \u001b[0;34m=\u001b[0m \u001b[0mvar\u001b[0m\u001b[0;34m.\u001b[0m\u001b[0m_shared_name\u001b[0m  \u001b[0;31m# Unique and stable\u001b[0m\u001b[0;34m\u001b[0m\u001b[0;34m\u001b[0m\u001b[0m\n\u001b[0;32m---> 15\u001b[0;31m             self.momentums[key] = self.add_variable_from_reference(\n\u001b[0m\u001b[1;32m     16\u001b[0m                 \u001b[0mreference_variable\u001b[0m\u001b[0;34m=\u001b[0m\u001b[0mvar\u001b[0m\u001b[0;34m,\u001b[0m\u001b[0;34m\u001b[0m\u001b[0;34m\u001b[0m\u001b[0m\n\u001b[1;32m     17\u001b[0m                 \u001b[0mname\u001b[0m\u001b[0;34m=\u001b[0m\u001b[0;34mf\"momentum_{key}\"\u001b[0m\u001b[0;34m\u001b[0m\u001b[0;34m\u001b[0m\u001b[0m\n",
            "\u001b[0;31mValueError\u001b[0m: Argument `name` must be a string and cannot contain character `/`. Received: name=sequential_39_dense_97_kernel_momentum_sequential_39/dense_97/kernel"
          ]
        }
      ]
    },
    {
      "cell_type": "code",
      "source": [
        "import tensorflow as tf\n",
        "from tensorflow import keras\n",
        "\n",
        "class MyMomentumOptimizer(keras.optimizers.Optimizer):\n",
        "    def __init__(self, learning_rate=0.01, momentum=0.9, name=\"MyMomentumOptimizer\", **kwargs):\n",
        "        super().__init__(learning_rate=learning_rate, name=name, **kwargs)\n",
        "        self.momentum = momentum\n",
        "        self.momentums = {}\n",
        "\n",
        "    def build(self, var_list):\n",
        "        super().build(var_list)\n",
        "        self.momentums = {}\n",
        "        for var in var_list:\n",
        "            key = var._shared_name.replace(\"/\", \"_\")  # Replace '/' with '_' for valid name\n",
        "            self.momentums[key] = self.add_variable_from_reference(\n",
        "                var,  # reference_variable (positional)\n",
        "                name=f\"momentum_{key}\",\n",
        "                initializer='zeros',\n",
        "                trainable=False\n",
        "            )\n",
        "\n",
        "    def update_step(self, gradient, variable, learning_rate=None):\n",
        "        if gradient is None:\n",
        "            return\n",
        "        if learning_rate is None:\n",
        "            learning_rate = self.learning_rate\n",
        "\n",
        "        lr = tf.cast(learning_rate, variable.dtype)\n",
        "        momentum_t = tf.cast(self.momentum, variable.dtype)\n",
        "\n",
        "        key = variable._shared_name.replace(\"/\", \"_\")\n",
        "        momentum_var = self.momentums[key]\n",
        "        new_momentum = momentum_t * momentum_var + (1.0 - momentum_t) * gradient\n",
        "        momentum_var.assign(new_momentum)\n",
        "        variable.assign_sub(lr * new_momentum)\n",
        "\n",
        "    def get_config(self):\n",
        "        config = super().get_config()\n",
        "        config.update({\"momentum\": self.momentum})\n",
        "        return config\n",
        "\n",
        "(x_train, y_train), (x_test, y_test) = keras.datasets.mnist.load_data()\n",
        "x_train = x_train.reshape(-1, 784).astype(\"float32\") / 255.0\n",
        "x_test = x_test.reshape(-1, 784).astype(\"float32\") / 255.0\n",
        "\n",
        "model = keras.Sequential([\n",
        "    keras.layers.Dense(128, activation=\"relu\", input_shape=(784,)),\n",
        "    keras.layers.Dense(10, activation=\"softmax\")\n",
        "])\n",
        "\n",
        "optimizer = MyMomentumOptimizer(learning_rate=0.01, momentum=0.95)\n",
        "model.compile(optimizer=optimizer, loss=\"sparse_categorical_crossentropy\", metrics=[\"accuracy\"])\n",
        "model.fit(x_train, y_train, epochs=5, batch_size=32, validation_split=0.1)"
      ],
      "metadata": {
        "colab": {
          "base_uri": "https://localhost:8080/",
          "height": 339
        },
        "id": "uchZOYgy1KMH",
        "outputId": "253a9812-d571-47dc-cf71-35883e8a1b40"
      },
      "execution_count": null,
      "outputs": [
        {
          "output_type": "stream",
          "name": "stdout",
          "text": [
            "Epoch 1/5\n"
          ]
        },
        {
          "output_type": "error",
          "ename": "TypeError",
          "evalue": "TFOptimizer.add_variable_from_reference() got an unexpected keyword argument 'trainable'",
          "traceback": [
            "\u001b[0;31m---------------------------------------------------------------------------\u001b[0m",
            "\u001b[0;31mTypeError\u001b[0m                                 Traceback (most recent call last)",
            "\u001b[0;32m<ipython-input-79-2415d4ba188d>\u001b[0m in \u001b[0;36m<cell line: 0>\u001b[0;34m()\u001b[0m\n\u001b[1;32m     51\u001b[0m \u001b[0moptimizer\u001b[0m \u001b[0;34m=\u001b[0m \u001b[0mMyMomentumOptimizer\u001b[0m\u001b[0;34m(\u001b[0m\u001b[0mlearning_rate\u001b[0m\u001b[0;34m=\u001b[0m\u001b[0;36m0.01\u001b[0m\u001b[0;34m,\u001b[0m \u001b[0mmomentum\u001b[0m\u001b[0;34m=\u001b[0m\u001b[0;36m0.95\u001b[0m\u001b[0;34m)\u001b[0m\u001b[0;34m\u001b[0m\u001b[0;34m\u001b[0m\u001b[0m\n\u001b[1;32m     52\u001b[0m \u001b[0mmodel\u001b[0m\u001b[0;34m.\u001b[0m\u001b[0mcompile\u001b[0m\u001b[0;34m(\u001b[0m\u001b[0moptimizer\u001b[0m\u001b[0;34m=\u001b[0m\u001b[0moptimizer\u001b[0m\u001b[0;34m,\u001b[0m \u001b[0mloss\u001b[0m\u001b[0;34m=\u001b[0m\u001b[0;34m\"sparse_categorical_crossentropy\"\u001b[0m\u001b[0;34m,\u001b[0m \u001b[0mmetrics\u001b[0m\u001b[0;34m=\u001b[0m\u001b[0;34m[\u001b[0m\u001b[0;34m\"accuracy\"\u001b[0m\u001b[0;34m]\u001b[0m\u001b[0;34m)\u001b[0m\u001b[0;34m\u001b[0m\u001b[0;34m\u001b[0m\u001b[0m\n\u001b[0;32m---> 53\u001b[0;31m \u001b[0mmodel\u001b[0m\u001b[0;34m.\u001b[0m\u001b[0mfit\u001b[0m\u001b[0;34m(\u001b[0m\u001b[0mx_train\u001b[0m\u001b[0;34m,\u001b[0m \u001b[0my_train\u001b[0m\u001b[0;34m,\u001b[0m \u001b[0mepochs\u001b[0m\u001b[0;34m=\u001b[0m\u001b[0;36m5\u001b[0m\u001b[0;34m,\u001b[0m \u001b[0mbatch_size\u001b[0m\u001b[0;34m=\u001b[0m\u001b[0;36m32\u001b[0m\u001b[0;34m,\u001b[0m \u001b[0mvalidation_split\u001b[0m\u001b[0;34m=\u001b[0m\u001b[0;36m0.1\u001b[0m\u001b[0;34m)\u001b[0m\u001b[0;34m\u001b[0m\u001b[0;34m\u001b[0m\u001b[0m\n\u001b[0m",
            "\u001b[0;32m/usr/local/lib/python3.11/dist-packages/keras/src/utils/traceback_utils.py\u001b[0m in \u001b[0;36merror_handler\u001b[0;34m(*args, **kwargs)\u001b[0m\n\u001b[1;32m    120\u001b[0m             \u001b[0;31m# To get the full stack trace, call:\u001b[0m\u001b[0;34m\u001b[0m\u001b[0;34m\u001b[0m\u001b[0m\n\u001b[1;32m    121\u001b[0m             \u001b[0;31m# `keras.config.disable_traceback_filtering()`\u001b[0m\u001b[0;34m\u001b[0m\u001b[0;34m\u001b[0m\u001b[0m\n\u001b[0;32m--> 122\u001b[0;31m             \u001b[0;32mraise\u001b[0m \u001b[0me\u001b[0m\u001b[0;34m.\u001b[0m\u001b[0mwith_traceback\u001b[0m\u001b[0;34m(\u001b[0m\u001b[0mfiltered_tb\u001b[0m\u001b[0;34m)\u001b[0m \u001b[0;32mfrom\u001b[0m \u001b[0;32mNone\u001b[0m\u001b[0;34m\u001b[0m\u001b[0;34m\u001b[0m\u001b[0m\n\u001b[0m\u001b[1;32m    123\u001b[0m         \u001b[0;32mfinally\u001b[0m\u001b[0;34m:\u001b[0m\u001b[0;34m\u001b[0m\u001b[0;34m\u001b[0m\u001b[0m\n\u001b[1;32m    124\u001b[0m             \u001b[0;32mdel\u001b[0m \u001b[0mfiltered_tb\u001b[0m\u001b[0;34m\u001b[0m\u001b[0;34m\u001b[0m\u001b[0m\n",
            "\u001b[0;32m<ipython-input-79-2415d4ba188d>\u001b[0m in \u001b[0;36mbuild\u001b[0;34m(self, var_list)\u001b[0m\n\u001b[1;32m     13\u001b[0m         \u001b[0;32mfor\u001b[0m \u001b[0mvar\u001b[0m \u001b[0;32min\u001b[0m \u001b[0mvar_list\u001b[0m\u001b[0;34m:\u001b[0m\u001b[0;34m\u001b[0m\u001b[0;34m\u001b[0m\u001b[0m\n\u001b[1;32m     14\u001b[0m             \u001b[0mkey\u001b[0m \u001b[0;34m=\u001b[0m \u001b[0mvar\u001b[0m\u001b[0;34m.\u001b[0m\u001b[0m_shared_name\u001b[0m\u001b[0;34m.\u001b[0m\u001b[0mreplace\u001b[0m\u001b[0;34m(\u001b[0m\u001b[0;34m\"/\"\u001b[0m\u001b[0;34m,\u001b[0m \u001b[0;34m\"_\"\u001b[0m\u001b[0;34m)\u001b[0m  \u001b[0;31m# Replace '/' with '_' for valid name\u001b[0m\u001b[0;34m\u001b[0m\u001b[0;34m\u001b[0m\u001b[0m\n\u001b[0;32m---> 15\u001b[0;31m             self.momentums[key] = self.add_variable_from_reference(\n\u001b[0m\u001b[1;32m     16\u001b[0m                 \u001b[0mvar\u001b[0m\u001b[0;34m,\u001b[0m  \u001b[0;31m# reference_variable (positional)\u001b[0m\u001b[0;34m\u001b[0m\u001b[0;34m\u001b[0m\u001b[0m\n\u001b[1;32m     17\u001b[0m                 \u001b[0mname\u001b[0m\u001b[0;34m=\u001b[0m\u001b[0;34mf\"momentum_{key}\"\u001b[0m\u001b[0;34m,\u001b[0m\u001b[0;34m\u001b[0m\u001b[0;34m\u001b[0m\u001b[0m\n",
            "\u001b[0;31mTypeError\u001b[0m: TFOptimizer.add_variable_from_reference() got an unexpected keyword argument 'trainable'"
          ]
        }
      ]
    },
    {
      "cell_type": "code",
      "source": [
        "import tensorflow as tf\n",
        "from tensorflow import keras\n",
        "\n",
        "print(\"TensorFlow version:\", tf.__version__)\n",
        "\n",
        "class MyMomentumOptimizer(keras.optimizers.Optimizer):\n",
        "    def __init__(self, learning_rate=0.01, momentum=0.9, name=\"MyMomentumOptimizer\", **kwargs):\n",
        "        super().__init__(learning_rate=learning_rate, name=name, **kwargs)\n",
        "        self.momentum = momentum\n",
        "        self.momentums = {}\n",
        "\n",
        "    def build(self, var_list):\n",
        "        super().build(var_list)\n",
        "        self.momentums = {}\n",
        "        for var in var_list:\n",
        "            key = var._shared_name\n",
        "            safe_name = f\"momentum_{key.replace('/', '_')}\"\n",
        "            self.momentums[key] = self.add_variable_from_reference(\n",
        "                reference_variable=var,\n",
        "                name=safe_name\n",
        "            )\n",
        "\n",
        "    def update_step(self, gradient, variable, learning_rate=None):\n",
        "        if gradient is None:\n",
        "            return\n",
        "        if learning_rate is None:\n",
        "            learning_rate = self.learning_rate\n",
        "\n",
        "        lr = tf.cast(learning_rate, variable.dtype)\n",
        "        momentum_t = tf.cast(self.momentum, variable.dtype)\n",
        "\n",
        "        key = variable._shared_name\n",
        "        momentum_var = self.momentums[key]\n",
        "        new_momentum = momentum_t * momentum_var + (1.0 - momentum_t) * gradient\n",
        "        momentum_var.assign(new_momentum)\n",
        "        variable.assign_sub(lr * new_momentum)\n",
        "\n",
        "    def get_config(self):\n",
        "        config = super().get_config()\n",
        "        config.update({\"momentum\": self.momentum})\n",
        "        return config\n"
      ],
      "metadata": {
        "colab": {
          "base_uri": "https://localhost:8080/"
        },
        "id": "G9QaL-kP2XnL",
        "outputId": "c42ca883-f523-487b-d9cc-d2faf837910a"
      },
      "execution_count": null,
      "outputs": [
        {
          "output_type": "stream",
          "name": "stdout",
          "text": [
            "TensorFlow version: 2.18.0\n"
          ]
        }
      ]
    },
    {
      "cell_type": "code",
      "source": [
        "(x_train, y_train), (x_test, y_test) = keras.datasets.mnist.load_data()\n",
        "x_train = x_train.reshape(-1, 784).astype(\"float32\") / 255.0\n",
        "x_test = x_test.reshape(-1, 784).astype(\"float32\") / 255.0\n",
        "\n",
        "model = keras.Sequential([\n",
        "    keras.layers.Dense(128, activation=\"relu\", input_shape=(784,)),\n",
        "    keras.layers.Dense(10, activation=\"softmax\")\n",
        "])\n",
        "\n",
        "optimizer = MyMomentumOptimizer(learning_rate=0.01, momentum=0.95)\n",
        "model.compile(optimizer=optimizer, loss=\"sparse_categorical_crossentropy\", metrics=[\"accuracy\"])\n",
        "model.fit(x_train, y_train, epochs=5, batch_size=32, validation_split=0.1)\n"
      ],
      "metadata": {
        "colab": {
          "base_uri": "https://localhost:8080/"
        },
        "id": "10CMK0tv29ZO",
        "outputId": "a602860b-a4ed-463b-cefa-f65a106018a9"
      },
      "execution_count": null,
      "outputs": [
        {
          "output_type": "stream",
          "name": "stdout",
          "text": [
            "Epoch 1/5\n",
            "\u001b[1m1688/1688\u001b[0m \u001b[32m━━━━━━━━━━━━━━━━━━━━\u001b[0m\u001b[37m\u001b[0m \u001b[1m8s\u001b[0m 4ms/step - accuracy: 0.7135 - loss: 1.0806 - val_accuracy: 0.9158 - val_loss: 0.3192\n",
            "Epoch 2/5\n",
            "\u001b[1m1688/1688\u001b[0m \u001b[32m━━━━━━━━━━━━━━━━━━━━\u001b[0m\u001b[37m\u001b[0m \u001b[1m6s\u001b[0m 3ms/step - accuracy: 0.8956 - loss: 0.3735 - val_accuracy: 0.9273 - val_loss: 0.2616\n",
            "Epoch 3/5\n",
            "\u001b[1m1688/1688\u001b[0m \u001b[32m━━━━━━━━━━━━━━━━━━━━\u001b[0m\u001b[37m\u001b[0m \u001b[1m10s\u001b[0m 3ms/step - accuracy: 0.9110 - loss: 0.3156 - val_accuracy: 0.9348 - val_loss: 0.2345\n",
            "Epoch 4/5\n",
            "\u001b[1m1688/1688\u001b[0m \u001b[32m━━━━━━━━━━━━━━━━━━━━\u001b[0m\u001b[37m\u001b[0m \u001b[1m11s\u001b[0m 4ms/step - accuracy: 0.9200 - loss: 0.2831 - val_accuracy: 0.9403 - val_loss: 0.2152\n",
            "Epoch 5/5\n",
            "\u001b[1m1688/1688\u001b[0m \u001b[32m━━━━━━━━━━━━━━━━━━━━\u001b[0m\u001b[37m\u001b[0m \u001b[1m10s\u001b[0m 4ms/step - accuracy: 0.9271 - loss: 0.2588 - val_accuracy: 0.9448 - val_loss: 0.1999\n"
          ]
        },
        {
          "output_type": "execute_result",
          "data": {
            "text/plain": [
              "<keras.src.callbacks.history.History at 0x7bcb6b689e90>"
            ]
          },
          "metadata": {},
          "execution_count": 83
        }
      ]
    },
    {
      "cell_type": "code",
      "source": [
        "loss, accuracy = model.evaluate(x_test, y_test, verbose=0)\n",
        "print(f\"Test Loss: {loss:.4f}\")\n",
        "print(f\"Test Accuracy: {accuracy:.4f}\")"
      ],
      "metadata": {
        "colab": {
          "base_uri": "https://localhost:8080/"
        },
        "id": "0M-vljaJ3Af_",
        "outputId": "57dd1e6c-7fdc-418a-fb10-b54890e78dda"
      },
      "execution_count": null,
      "outputs": [
        {
          "output_type": "stream",
          "name": "stdout",
          "text": [
            "Test Loss: 0.2332\n",
            "Test Accuracy: 0.9343\n"
          ]
        }
      ]
    },
    {
      "cell_type": "code",
      "source": [
        "predictions = model.predict(x_test[:10])\n",
        "print(\"Predictions for the first 10 test images:\")\n",
        "print(tf.argmax(predictions, axis=1).numpy())\n",
        "print(\"True labels for the first 10 test images:\")\n",
        "print(y_test[:10])"
      ],
      "metadata": {
        "colab": {
          "base_uri": "https://localhost:8080/"
        },
        "id": "DjGo86do3m6R",
        "outputId": "5838a61a-d2fb-431b-df35-73e034bed460"
      },
      "execution_count": null,
      "outputs": [
        {
          "output_type": "stream",
          "name": "stdout",
          "text": [
            "\u001b[1m1/1\u001b[0m \u001b[32m━━━━━━━━━━━━━━━━━━━━\u001b[0m\u001b[37m\u001b[0m \u001b[1m0s\u001b[0m 70ms/step\n",
            "Predictions for the first 10 test images:\n",
            "[7 2 1 0 4 1 4 9 6 9]\n",
            "True labels for the first 10 test images:\n",
            "[7 2 1 0 4 1 4 9 5 9]\n"
          ]
        }
      ]
    },
    {
      "cell_type": "code",
      "source": [
        "# Save the model\n",
        "model.save(\"mnist_model_custom_optimizer.keras\")\n",
        "print(\"Model saved.\")\n",
        "\n",
        "# Load the model\n",
        "loaded_model = keras.models.load_model(\n",
        "    \"mnist_model_custom_optimizer.keras\",\n",
        "    custom_objects={\"MyMomentumOptimizer\": MyMomentumOptimizer}\n",
        ")\n",
        "print(\"Model loaded.\")\n",
        "\n",
        "# Evaluate the loaded model to ensure it works\n",
        "loaded_loss, loaded_accuracy = loaded_model.evaluate(x_test, y_test, verbose=0)\n",
        "print(f\"Loaded Model Test Loss: {loaded_loss:.4f}\")\n",
        "print(f\"Loaded Model Test Accuracy: {loaded_accuracy:.4f}\")\n",
        "\n",
        "# Optionally, verify the optimizer's config\n",
        "print(\"Loaded model optimizer config:\", loaded_model.optimizer.get_config())"
      ],
      "metadata": {
        "colab": {
          "base_uri": "https://localhost:8080/"
        },
        "id": "G4LS5CY63pvB",
        "outputId": "542edc82-664e-4035-bdc0-5c9cd38fb9b4"
      },
      "execution_count": null,
      "outputs": [
        {
          "output_type": "stream",
          "name": "stdout",
          "text": [
            "Model saved.\n",
            "Model loaded.\n",
            "Loaded Model Test Loss: 0.2332\n",
            "Loaded Model Test Accuracy: 0.9343\n",
            "Loaded model optimizer config: {'name': 'MyMomentumOptimizer', 'learning_rate': 0.009999999776482582, 'weight_decay': None, 'clipnorm': None, 'global_clipnorm': None, 'clipvalue': None, 'use_ema': False, 'ema_momentum': 0.99, 'ema_overwrite_frequency': None, 'loss_scale_factor': None, 'gradient_accumulation_steps': None, 'momentum': 0.95}\n"
          ]
        }
      ]
    },
    {
      "cell_type": "markdown",
      "source": [
        "**Results Analysis:**\n",
        "\n",
        "The evaluation of the trained model on the test set yielded the following results:\n",
        "\n",
        "* **Test Loss:** 0.2332\n",
        "* **Test Accuracy:** 0.9343\n",
        "\n",
        "This indicates that the model, trained using the custom `MyMomentumOptimizer`, achieves a respectable accuracy of approximately 93.43% on unseen data. The test loss of 0.2332 provides a measure of the error between the model's predictions and the true labels on the test set.\n",
        "\n",
        "The predictions for the first 10 test images show that the model correctly identifies the digits in 8 out of 10 cases. There are discrepancies for the 9th image (predicted as 6, true label is 5) and the 10th image (predicted as 9, true label is 9 - a correct prediction). This small sample highlights that while the overall accuracy is high, the model still makes occasional errors.\n",
        "\n",
        "The process of saving and loading the model was successful, as evidenced by the identical test loss and accuracy values for the loaded model compared to the original trained model. This confirms that the custom optimizer's configuration and the model's learned weights are preserved during the saving and loading process.\n",
        "\n",
        "The configuration of the loaded optimizer is also printed, showing the hyperparameters that were used during training, including the learning rate (approximately 0.01) and the momentum (0.95), as defined when the `MyMomentumOptimizer` was instantiated. The presence of the momentum parameter in the configuration confirms that our custom optimizer's state is being tracked.\n",
        "\n",
        "In summary, the results demonstrate the successful implementation and utilization of the custom `MyMomentumOptimizer` for training a neural network on the MNIST dataset, achieving good generalization performance and the ability to save and reload the model along with the custom optimizer's state."
      ],
      "metadata": {
        "id": "kx2TS_VK4iF8"
      }
    },
    {
      "cell_type": "markdown",
      "source": [
        "### 11. Custom Training Loop\n",
        "\n",
        "While Keras's `fit()` method provides a convenient way to train models, a custom training loop offers greater flexibility and control over the training process. This is particularly useful for implementing advanced training techniques, debugging, or gaining a deeper understanding of what happens during each training step.\n",
        "\n",
        "A custom training loop typically involves manually iterating over the dataset, calculating gradients, and updating the model's weights using an optimizer. It allows you to customize the loss calculation, gradient application, logging, and other aspects of the training procedure.\n",
        "\n",
        "**Implementation (Conceptual - Code follows):**\n",
        "\n",
        "The basic structure of a custom training loop involves:\n",
        "\n",
        "1.  **Iterating through epochs:** The outer loop runs for a specified number of training epochs.\n",
        "2.  **Iterating through batches of data:** The inner loop processes the training data in batches.\n",
        "3.  **Calculating the loss:** For each batch, make predictions using the model and calculate the loss using a chosen loss function.\n",
        "4.  **Calculating gradients:** Use `tf.GradientTape()` to record the operations involved in the loss calculation and then compute the gradients of the loss with respect to the model's trainable variables.\n",
        "5.  **Applying gradients:** Use the optimizer's `apply_gradients()` method to update the model's weights based on the calculated gradients.\n",
        "6.  **Tracking metrics:** Keep track of loss and other relevant metrics (like accuracy) over the batches and epochs.\n",
        "7.  **Handling validation (optional):** Evaluate the model on a validation set at the end of each epoch (or at specified intervals).\n",
        "\n",
        "**Code (Adapted for MNIST):**"
      ],
      "metadata": {
        "id": "ng3gRkBJ4vHT"
      }
    },
    {
      "cell_type": "code",
      "source": [
        "import tensorflow as tf\n",
        "from tensorflow import keras\n",
        "import numpy as np\n",
        "\n",
        "# Load and preprocess the MNIST dataset\n",
        "(x_train, y_train), (x_test, y_test) = keras.datasets.mnist.load_data()\n",
        "x_train = x_train.reshape(-1, 784).astype(\"float32\") / 255.0\n",
        "x_test = x_test.reshape(-1, 784).astype(\"float32\") / 255.0\n",
        "\n",
        "# Define the model\n",
        "model_custom_loop = keras.Sequential([\n",
        "    keras.layers.Dense(128, activation=\"relu\", input_shape=(784,)),\n",
        "    keras.layers.Dense(10, activation=\"softmax\")\n",
        "])\n",
        "\n",
        "# Define the optimizer and loss function\n",
        "optimizer_custom_loop = keras.optimizers.Adam(learning_rate=0.001)\n",
        "loss_fn = keras.losses.SparseCategoricalCrossentropy()\n",
        "\n",
        "# Define metrics to track\n",
        "train_accuracy_metric = keras.metrics.SparseCategoricalAccuracy()\n",
        "\n",
        "# Define the training loop function\n",
        "def train_step(images, labels):\n",
        "    with tf.GradientTape() as tape:\n",
        "        predictions = model_custom_loop(images)\n",
        "        loss = loss_fn(labels, predictions)\n",
        "    gradients = tape.gradient(loss, model_custom_loop.trainable_variables)\n",
        "    optimizer_custom_loop.apply_gradients(zip(gradients, model_custom_loop.trainable_variables))\n",
        "    train_accuracy_metric.update_state(labels, predictions)\n",
        "    return loss\n",
        "\n",
        "# Define the number of epochs and batch size\n",
        "epochs = 5\n",
        "batch_size = 32\n",
        "num_batches = x_train.shape[0] // batch_size\n",
        "\n",
        "# Prepare the dataset for iteration\n",
        "train_dataset = tf.data.Dataset.from_tensor_slices((x_train, y_train)).batch(batch_size)\n"
      ],
      "metadata": {
        "id": "kBHEqwyg3zLl"
      },
      "execution_count": null,
      "outputs": []
    },
    {
      "cell_type": "code",
      "source": [
        "\n",
        "# Custom training loop\n",
        "print(\"Custom Training Loop:\")\n",
        "for epoch in range(epochs):\n",
        "    print(f\"Epoch {epoch + 1}\")\n",
        "    for batch_idx, (images, labels) in enumerate(train_dataset):\n",
        "        loss = train_step(images, labels)\n",
        "        if batch_idx % 100 == 0:\n",
        "            print(f\"  Batch {batch_idx}, Loss: {loss.numpy():.4f}\")\n",
        "    train_accuracy = train_accuracy_metric.result()\n",
        "    print(f\"Epoch {epoch + 1}, Training Accuracy: {train_accuracy.numpy():.4f}\")\n",
        "    train_accuracy_metric.reset_state()\n",
        "\n",
        "# Evaluate on the test set\n",
        "test_loss = loss_fn(y_test, model_custom_loop(x_test))\n",
        "test_accuracy = keras.metrics.SparseCategoricalAccuracy()(y_test, model_custom_loop(x_test))\n",
        "print(f\"\\nTest Loss: {test_loss.numpy():.4f}\")\n",
        "print(f\"Test Accuracy: {test_accuracy.numpy():.4f}\")"
      ],
      "metadata": {
        "colab": {
          "base_uri": "https://localhost:8080/"
        },
        "id": "5w9LjIJM4yrQ",
        "outputId": "1486cd9a-e404-4b21-84b6-b4212634e8f5"
      },
      "execution_count": null,
      "outputs": [
        {
          "output_type": "stream",
          "name": "stdout",
          "text": [
            "Custom Training Loop:\n",
            "Epoch 1\n",
            "  Batch 0, Loss: 2.3705\n",
            "  Batch 100, Loss: 0.4826\n",
            "  Batch 200, Loss: 0.3733\n",
            "  Batch 300, Loss: 0.2481\n",
            "  Batch 400, Loss: 0.1647\n",
            "  Batch 500, Loss: 0.4077\n",
            "  Batch 600, Loss: 0.1472\n",
            "  Batch 700, Loss: 0.1210\n",
            "  Batch 800, Loss: 0.1665\n",
            "  Batch 900, Loss: 0.1154\n",
            "  Batch 1000, Loss: 0.4826\n",
            "  Batch 1100, Loss: 0.2196\n",
            "  Batch 1200, Loss: 0.1619\n",
            "  Batch 1300, Loss: 0.1945\n",
            "  Batch 1400, Loss: 0.2973\n",
            "  Batch 1500, Loss: 0.1687\n",
            "  Batch 1600, Loss: 0.2031\n",
            "  Batch 1700, Loss: 0.0854\n",
            "  Batch 1800, Loss: 0.1643\n",
            "Epoch 1, Training Accuracy: 0.9233\n",
            "Epoch 2\n",
            "  Batch 0, Loss: 0.0784\n",
            "  Batch 100, Loss: 0.2187\n",
            "  Batch 200, Loss: 0.1631\n",
            "  Batch 300, Loss: 0.0737\n",
            "  Batch 400, Loss: 0.0891\n",
            "  Batch 500, Loss: 0.1605\n",
            "  Batch 600, Loss: 0.0637\n",
            "  Batch 700, Loss: 0.0338\n",
            "  Batch 800, Loss: 0.0881\n",
            "  Batch 900, Loss: 0.0423\n",
            "  Batch 1000, Loss: 0.3023\n",
            "  Batch 1100, Loss: 0.1673\n",
            "  Batch 1200, Loss: 0.1008\n",
            "  Batch 1300, Loss: 0.1150\n",
            "  Batch 1400, Loss: 0.1978\n",
            "  Batch 1500, Loss: 0.1059\n",
            "  Batch 1600, Loss: 0.1766\n",
            "  Batch 1700, Loss: 0.0354\n",
            "  Batch 1800, Loss: 0.0787\n",
            "Epoch 2, Training Accuracy: 0.9647\n",
            "Epoch 3\n",
            "  Batch 0, Loss: 0.0432\n",
            "  Batch 100, Loss: 0.1684\n",
            "  Batch 200, Loss: 0.1075\n",
            "  Batch 300, Loss: 0.0306\n",
            "  Batch 400, Loss: 0.0739\n",
            "  Batch 500, Loss: 0.1179\n",
            "  Batch 600, Loss: 0.0477\n",
            "  Batch 700, Loss: 0.0152\n",
            "  Batch 800, Loss: 0.0532\n",
            "  Batch 900, Loss: 0.0175\n",
            "  Batch 1000, Loss: 0.1687\n",
            "  Batch 1100, Loss: 0.1313\n",
            "  Batch 1200, Loss: 0.0755\n",
            "  Batch 1300, Loss: 0.0777\n",
            "  Batch 1400, Loss: 0.1115\n",
            "  Batch 1500, Loss: 0.0379\n",
            "  Batch 1600, Loss: 0.1252\n",
            "  Batch 1700, Loss: 0.0352\n",
            "  Batch 1800, Loss: 0.0378\n",
            "Epoch 3, Training Accuracy: 0.9755\n",
            "Epoch 4\n",
            "  Batch 0, Loss: 0.0286\n",
            "  Batch 100, Loss: 0.1294\n",
            "  Batch 200, Loss: 0.0567\n",
            "  Batch 300, Loss: 0.0124\n",
            "  Batch 400, Loss: 0.0630\n",
            "  Batch 500, Loss: 0.0874\n",
            "  Batch 600, Loss: 0.0421\n",
            "  Batch 700, Loss: 0.0090\n",
            "  Batch 800, Loss: 0.0362\n",
            "  Batch 900, Loss: 0.0102\n",
            "  Batch 1000, Loss: 0.1396\n",
            "  Batch 1100, Loss: 0.1140\n",
            "  Batch 1200, Loss: 0.0435\n",
            "  Batch 1300, Loss: 0.0539\n",
            "  Batch 1400, Loss: 0.0640\n",
            "  Batch 1500, Loss: 0.0194\n",
            "  Batch 1600, Loss: 0.0901\n",
            "  Batch 1700, Loss: 0.0231\n",
            "  Batch 1800, Loss: 0.0266\n",
            "Epoch 4, Training Accuracy: 0.9821\n",
            "Epoch 5\n",
            "  Batch 0, Loss: 0.0242\n",
            "  Batch 100, Loss: 0.0786\n",
            "  Batch 200, Loss: 0.0435\n",
            "  Batch 300, Loss: 0.0071\n",
            "  Batch 400, Loss: 0.0611\n",
            "  Batch 500, Loss: 0.0534\n",
            "  Batch 600, Loss: 0.0383\n",
            "  Batch 700, Loss: 0.0059\n",
            "  Batch 800, Loss: 0.0354\n",
            "  Batch 900, Loss: 0.0064\n",
            "  Batch 1000, Loss: 0.1298\n",
            "  Batch 1100, Loss: 0.0691\n",
            "  Batch 1200, Loss: 0.0214\n",
            "  Batch 1300, Loss: 0.0438\n",
            "  Batch 1400, Loss: 0.0347\n",
            "  Batch 1500, Loss: 0.0102\n",
            "  Batch 1600, Loss: 0.0702\n",
            "  Batch 1700, Loss: 0.0164\n",
            "  Batch 1800, Loss: 0.0269\n",
            "Epoch 5, Training Accuracy: 0.9866\n",
            "\n",
            "Test Loss: 0.1155\n",
            "Test Accuracy: 0.9658\n"
          ]
        }
      ]
    },
    {
      "cell_type": "markdown",
      "source": [
        "**Results for Custom Training Loop:**\n",
        "\n",
        "The custom training loop executed for 5 epochs on the MNIST dataset, providing detailed information about the training process:\n",
        "\n",
        "* **Epoch-wise Progress:** For each epoch, the loss was printed for every 100 batches, showing a general decreasing trend in the loss as training progressed. This indicates that the model was learning and the loss function was being minimized.\n",
        "* **Training Accuracy:** The training accuracy was calculated and reported at the end of each epoch. The accuracy steadily increased from 0.9233 in the first epoch to 0.9866 by the fifth epoch, demonstrating that the model was effectively learning to classify the training data.\n",
        "* **Final Evaluation:** After the custom training loop completed, the model was evaluated on the test set, resulting in:\n",
        "    * **Test Loss:** 0.1155\n",
        "    * **Test Accuracy:** 0.9658\n",
        "\n",
        "**Analysis:**\n",
        "\n",
        "The results of the custom training loop are very encouraging. The high training accuracy achieved by the end of the 5 epochs suggests that the model has learned the patterns in the training data well. The test accuracy of 0.9658 indicates that the model generalizes reasonably well to unseen data, although there is a slight gap between the training and test accuracy, which is common and can be due to factors like overfitting or differences between the training and test distributions.\n",
        "\n",
        "The custom training loop allowed for fine-grained control over the training process, including the ability to print batch-wise loss and epoch-wise training accuracy. This level of detail can be valuable for monitoring the training dynamics and debugging potential issues.\n",
        "\n",
        "Compared to using the built-in `fit()` method, a custom training loop provides more flexibility to implement advanced training techniques such as:\n",
        "\n",
        "* **Gradient clipping:** To prevent exploding gradients.\n",
        "* **Learning rate scheduling:** To adjust the learning rate during training based on certain criteria.\n",
        "* **Custom logging and visualization:** To track specific metrics or visualize training progress in a tailored way.\n",
        "* **Mixed precision training:** To improve performance and reduce memory usage.\n",
        "\n",
        "In this case, a basic custom training loop was implemented, demonstrating the fundamental steps involved in manual training. The achieved test accuracy of 0.9658 shows that even with a simple custom loop, effective training can be performed."
      ],
      "metadata": {
        "id": "d-DKXmx6_bMC"
      }
    },
    {
      "cell_type": "code",
      "source": [],
      "metadata": {
        "id": "T1pHNZby5VXZ"
      },
      "execution_count": null,
      "outputs": []
    }
  ]
}